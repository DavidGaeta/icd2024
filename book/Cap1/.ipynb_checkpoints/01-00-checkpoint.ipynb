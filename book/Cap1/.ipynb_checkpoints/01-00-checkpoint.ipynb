{
 "cells": [
  {
   "cell_type": "markdown",
   "id": "13203b57-98f8-41c5-ab96-f03da2aa91cd",
   "metadata": {},
   "source": [
    "## Keyboard Shortcuts in the IPython Shell\n",
    "Eber David Gaytán Medina"
   ]
  },
  {
   "cell_type": "markdown",
   "id": "634a9449-52d7-43c7-980f-9052a3dd7c62",
   "metadata": {},
   "source": [
    "#### Navigation shortcuts\n",
    "Ctrl-a\tMove cursor to the beginning of the line\n",
    "Ctrl-e\tMove cursor to the end of the line\n",
    "Ctrl-b or the left arrow key\tMove cursor back one character\n",
    "Ctrl-f or the right arrow key\tMove cursor forward one character"
   ]
  },
  {
   "cell_type": "markdown",
   "id": "aeb4822a-ec89-4f71-8d04-f31e07221b8d",
   "metadata": {},
   "source": [
    "#### Text Entry Shortcuts"
   ]
  },
  {
   "cell_type": "markdown",
   "id": "ce5bf698-73bc-4b88-97de-c2088467bd04",
   "metadata": {},
   "source": [
    "```\n",
    "Backspace key\tDelete previous character in line\n",
    "Ctrl-d\tDelete next character in line\n",
    "Ctrl-k\tCut text from cursor to end of line\n",
    "Ctrl-u\tCut text from beginning of line to cursor\n",
    "Ctrl-y\tYank (i.e. paste) text that was previously cut\n",
    "Ctrl-t\tTranspose (i.e., switch) previous two characters\n",
    "```"
   ]
  },
  {
   "cell_type": "markdown",
   "id": "19f5322a-a44b-4f56-92da-71c426df8ebc",
   "metadata": {},
   "source": [
    "#### Command History Shortcuts"
   ]
  },
  {
   "cell_type": "markdown",
   "id": "f726d9cd-6b11-4b87-a60a-930c70312358",
   "metadata": {},
   "source": [
    "```\n",
    "Ctrl-p (or the up arrow key)\tAccess previous command in history\n",
    "Ctrl-n (or the down arrow key)\tAccess next command in history\n",
    "Ctrl-r\tReverse-search through command history\n",
    "```"
   ]
  },
  {
   "cell_type": "markdown",
   "id": "c5d514b6-9252-4128-9764-b3b544062934",
   "metadata": {},
   "source": [
    "#### Miscellaneous Shortcuts"
   ]
  },
  {
   "cell_type": "markdown",
   "id": "3fe1205a-1c9e-42e6-afbc-e6f391436dca",
   "metadata": {},
   "source": [
    "```\n",
    "Ctrl-l\tClear terminal screen\n",
    "Ctrl-c\tInterrupt current Python command\n",
    "Ctrl-d\tExit IPython session```"
   ]
  }
 ],
 "metadata": {
  "kernelspec": {
   "display_name": "Python 3 (ipykernel)",
   "language": "python",
   "name": "python3"
  },
  "language_info": {
   "codemirror_mode": {
    "name": "ipython",
    "version": 3
   },
   "file_extension": ".py",
   "mimetype": "text/x-python",
   "name": "python",
   "nbconvert_exporter": "python",
   "pygments_lexer": "ipython3",
   "version": "3.11.8"
  }
 },
 "nbformat": 4,
 "nbformat_minor": 5
}
