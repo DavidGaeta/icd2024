{
 "cells": [
  {
   "cell_type": "markdown",
   "id": "b72e2466-6c4b-4b47-a602-c8d252a29434",
   "metadata": {},
   "source": [
    "## Bloque 1 - 00.00\n",
    "Eber David Gaytán Medina"
   ]
  },
  {
   "cell_type": "markdown",
   "id": "15df7898-1a2b-4f42-80f8-206a018a7e76",
   "metadata": {},
   "source": [
    "Instalacion de conda y complementos de conda"
   ]
  },
  {
   "cell_type": "markdown",
   "id": "540419d5-29a0-44f9-a9f4-f33875ffe466",
   "metadata": {},
   "source": [
    "```[~]$ bash conda install numpy pandas scikit-learn matplotlib seaborn jupyter```"
   ]
  }
 ],
 "metadata": {
  "kernelspec": {
   "display_name": "Python 3 (ipykernel)",
   "language": "python",
   "name": "python3"
  },
  "language_info": {
   "codemirror_mode": {
    "name": "ipython",
    "version": 3
   },
   "file_extension": ".py",
   "mimetype": "text/x-python",
   "name": "python",
   "nbconvert_exporter": "python",
   "pygments_lexer": "ipython3",
   "version": "3.11.8"
  }
 },
 "nbformat": 4,
 "nbformat_minor": 5
}
