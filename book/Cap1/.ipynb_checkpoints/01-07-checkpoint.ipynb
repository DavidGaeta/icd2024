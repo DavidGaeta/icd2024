{
 "cells": [
  {
   "cell_type": "markdown",
   "id": "65d86f01-d8a0-4f38-909e-e7ebdb76df77",
   "metadata": {},
   "source": [
    "## Profiling and Timing Code\n",
    "Eber David Gaytan Medina\n",
    "\n",
    "\n",
    "In the process of developing code and creating data processing pipelines, there are often trade-offs you can make between various implementations. Early in developing your algorithm, it can be counterproductive to worry about such things. As Donald Knuth famously quipped, \"We should forget about small efficiencies, say about 97% of the time: premature optimization is the root of all evil.\"\n",
    "\n",
    "But once you have your code working, it can be useful to dig into its efficiency a bit. Sometimes it's useful to check the execution time of a given command or set of commands; other times it's useful to dig into a multiline process and determine where the bottleneck lies in some complicated series of operations. IPython provides access to a wide array of functionality for this kind of timing and profiling of code. Here we'll discuss the following IPython magic commands:\n",
    "\n",
    "```bash\n",
    "%time: Time the execution of a single statement\n",
    "%timeit: Time repeated execution of a single statement for more accuracy\n",
    "%prun: Run code with the profiler\n",
    "%lprun: Run code with the line-by-line profiler\n",
    "%memit: Measure the memory use of a single statement\n",
    "%mprun: Run code with the line-by-line memory profiler\n",
    "```"
   ]
  },
  {
   "cell_type": "markdown",
   "id": "a40dc185-9710-4c36-8759-8bfea2ed28a1",
   "metadata": {},
   "source": [
    "Timing Code Snippets: `%timeit` and `%time`\n",
    "We saw the `%timeit` line-magic and `%%timeit` cell-magic in the introduction to magic functions in IPython Magic Commands; it can be used to time the repeated execution of snippets of code:\n",
    "```bash\n",
    "%timeit sum(range(100))\n",
    "100000 loops, best of 3: 1.54 µs per loop\n",
    "```\n",
    "Note that because this operation is so fast, %timeit automatically does a large number of repetitions. For slower commands, %timeit will automatically adjust and perform fewer repetitions:\n",
    "```bash\n",
    "%%timeit\n",
    "total = 0\n",
    "for i in range(1000):\n",
    "    for j in range(1000):\n",
    "        total += i * (-1) ** j\n",
    "1 loops, best of 3: 407 ms per loop\n",
    "```\n",
    "Sometimes repeating an operation is not the best option. For example, if we have a list that we'd like to sort, we might be misled by a repeated operation. Sorting a pre-sorted list is much faster than sorting an unsorted list, so the repetition will skew the result:\n",
    "```bash\n",
    "import random\n",
    "L = [random.random() for i in range(100000)]\n",
    "%timeit L.sort()\n",
    "```"
   ]
  },
  {
   "cell_type": "markdown",
   "id": "9e929608-d4e8-4daf-b3bf-5773f836583f",
   "metadata": {},
   "source": [
    "#### Profiling Full Scripts: %prun"
   ]
  },
  {
   "cell_type": "code",
   "execution_count": null,
   "id": "a5e9d5f1-9b59-4d1f-b2fc-0b960ff11d33",
   "metadata": {},
   "outputs": [],
   "source": [
    "def sum_of_lists(N):\n",
    "    total = 0\n",
    "    for i in range(5):\n",
    "        L = [j ^ (j >> i) for j in range(N)]\n",
    "        total += sum(L)\n",
    "    return total\n",
    "Now we can call %prun with a function call to see the profiled results:\n",
    "\n",
    "%prun sum_of_lists(1000000)"
   ]
  },
  {
   "cell_type": "markdown",
   "id": "cefe001e-937f-448a-aeb3-afcded764b60",
   "metadata": {},
   "source": [
    "#### Line-By-Line Profiling with %lprun"
   ]
  },
  {
   "cell_type": "code",
   "execution_count": null,
   "id": "ad8d6a75-8487-4d2a-9e41-512f9b1e086f",
   "metadata": {},
   "outputs": [],
   "source": [
    "$ pip install line_profiler\n",
    "Next, you can use IPython to load the line_profiler IPython extension, offered as part of this package:\n",
    "\n",
    "%load_ext line_profiler\n",
    "Now the %lprun command will do a line-by-line profiling of any function–in this case, we need to tell it explicitly which functions we're interested in profiling:\n",
    "\n",
    "%lprun -f sum_of_lists sum_of_lists(5000)"
   ]
  },
  {
   "cell_type": "markdown",
   "id": "8b12235d-f53d-4430-be71-867415d3b072",
   "metadata": {},
   "source": [
    "#### Profiling Memory Use: %memit and %mprun"
   ]
  },
  {
   "cell_type": "markdown",
   "id": "6019d4b9-14b3-4cf6-a8ed-d5cd9b55116d",
   "metadata": {},
   "source": [
    "Another aspect of profiling is the amount of memory an operation uses. This can be evaluated with another IPython extension, the memory_profiler. As with the line_profiler, we start by pip-installing the extension:\n",
    "```bash\n",
    "$ pip install memory_profiler\n",
    "Then we can use IPython to load the extension:\n",
    "\n",
    "%load_ext memory_profiler\n",
    "The memory profiler extension contains two useful magic functions: the %memit magic (which offers a memory-measuring equivalent of %timeit) and the %mprun function (which offers a memory-measuring equivalent of %lprun). The %memit function can be used rather simply:\n",
    "\n",
    "%memit sum_of_lists(1000000)\n",
    "peak memory: 100.08 MiB, increment: 61.36 MiB\n",
    "```"
   ]
  },
  {
   "cell_type": "code",
   "execution_count": null,
   "id": "b21e9e18-99f5-40af-8849-e038898ee3ac",
   "metadata": {},
   "outputs": [],
   "source": [
    "%%file mprun_demo.py\n",
    "def sum_of_lists(N):\n",
    "    total = 0\n",
    "    for i in range(5):\n",
    "        L = [j ^ (j >> i) for j in range(N)]\n",
    "        total += sum(L)\n",
    "        del L # remove reference to L\n",
    "    return total\n",
    "Overwriting mprun_demo.py\n",
    "We can now import the new version of this function and run the memory line profiler:\n",
    "\n",
    "from mprun_demo import sum_of_lists\n",
    "%mprun -f sum_of_lists sum_of_lists(1000000)"
   ]
  }
 ],
 "metadata": {
  "kernelspec": {
   "display_name": "Python 3 (ipykernel)",
   "language": "python",
   "name": "python3"
  },
  "language_info": {
   "codemirror_mode": {
    "name": "ipython",
    "version": 3
   },
   "file_extension": ".py",
   "mimetype": "text/x-python",
   "name": "python",
   "nbconvert_exporter": "python",
   "pygments_lexer": "ipython3",
   "version": "3.11.8"
  }
 },
 "nbformat": 4,
 "nbformat_minor": 5
}
