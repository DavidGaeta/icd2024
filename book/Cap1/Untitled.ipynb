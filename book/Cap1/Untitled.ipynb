{
 "cells": [
  {
   "cell_type": "markdown",
   "id": "f8be2d33-9f9e-4da6-9cf0-830315ea48de",
   "metadata": {},
   "source": [
    "## Introduction to NumPy\n",
    "Eber David Gaytán Medina"
   ]
  },
  {
   "cell_type": "code",
   "execution_count": null,
   "id": "728d3460-3d73-4127-a234-7055922e5b51",
   "metadata": {},
   "outputs": [],
   "source": []
  }
 ],
 "metadata": {
  "kernelspec": {
   "display_name": "Python 3 (ipykernel)",
   "language": "python",
   "name": "python3"
  },
  "language_info": {
   "codemirror_mode": {
    "name": "ipython",
    "version": 3
   },
   "file_extension": ".py",
   "mimetype": "text/x-python",
   "name": "python",
   "nbconvert_exporter": "python",
   "pygments_lexer": "ipython3",
   "version": "3.11.8"
  }
 },
 "nbformat": 4,
 "nbformat_minor": 5
}
