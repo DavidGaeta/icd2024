{
 "cells": [
  {
   "cell_type": "markdown",
   "id": "0909465d-0c62-4b2d-a439-ae1395953ac1",
   "metadata": {},
   "source": [
    "## Input and Output History\n",
    "Eber David Gaytán Medina"
   ]
  },
  {
   "cell_type": "markdown",
   "id": "f8205994-9076-46b4-897f-02a5839820eb",
   "metadata": {},
   "source": [
    "```python\n",
    "\n",
    "In [1]: import math\n",
    "\n",
    "In [2]: math.sin(2)\n",
    "Out[2]: 0.9092974268256817\n",
    "\n",
    "In [3]: math.cos(2)\n",
    "Out[3]: -0.4161468365471424\n",
    "\n",
    "```"
   ]
  },
  {
   "cell_type": "code",
   "execution_count": null,
   "id": "7669ccce-8914-4ba7-b8ee-b286298185f2",
   "metadata": {},
   "outputs": [],
   "source": [
    "In [4]: print(In)\n",
    "['', 'import math', 'math.sin(2)', 'math.cos(2)', 'print(In)']\n",
    "\n",
    "In [5]: Out\n",
    "Out[5]: {2: 0.9092974268256817, 3: -0.4161468365471424}"
   ]
  },
  {
   "cell_type": "code",
   "execution_count": null,
   "id": "267f9df4-9605-46e0-b5c3-304cb3e361df",
   "metadata": {},
   "outputs": [],
   "source": [
    "In [6]: print(In[1])\n",
    "import math"
   ]
  },
  {
   "cell_type": "code",
   "execution_count": null,
   "id": "6bf223b9-d7f9-411c-a33f-dd44dd510f4b",
   "metadata": {},
   "outputs": [],
   "source": [
    "In [7]: print(Out[2])\n",
    "0.9092974268256817"
   ]
  },
  {
   "cell_type": "code",
   "execution_count": null,
   "id": "83bb1276-e116-4412-ad62-4e19a827ce22",
   "metadata": {},
   "outputs": [],
   "source": [
    "In [8]: Out[2] ** 2 + Out[3] ** 2\n",
    "Out[8]: 1.0"
   ]
  },
  {
   "cell_type": "code",
   "execution_count": 1,
   "id": "04a4cfc7-3dc6-4ab8-bbbb-fb753424f05b",
   "metadata": {},
   "outputs": [
    {
     "name": "stdout",
     "output_type": "stream",
     "text": [
      "[]\n"
     ]
    },
    {
     "data": {
      "text/plain": [
       "1.0"
      ]
     },
     "execution_count": 1,
     "metadata": {},
     "output_type": "execute_result"
    }
   ],
   "source": [
    "print(_)\n",
    "1.0"
   ]
  },
  {
   "cell_type": "code",
   "execution_count": null,
   "id": "abd60ba1-9e4c-4e2e-945d-8ad6949e192d",
   "metadata": {},
   "outputs": [],
   "source": [
    "In [10]: print(__)\n",
    "-0.4161468365471424\n",
    "\n",
    "In [11]: print(___)\n",
    "0.9092974268256817"
   ]
  },
  {
   "cell_type": "code",
   "execution_count": null,
   "id": "ea128d5d-4377-4aef-b599-a07f35fbc2ad",
   "metadata": {},
   "outputs": [],
   "source": [
    "In [12]: Out[2]\n",
    "Out[12]: 0.9092974268256817\n",
    "\n",
    "In [13]: _2\n",
    "Out[13]: 0.9092974268256817"
   ]
  },
  {
   "cell_type": "code",
   "execution_count": null,
   "id": "1a6034d1-6e2c-4130-9265-3641c2153b10",
   "metadata": {},
   "outputs": [],
   "source": [
    "In [14]: math.sin(2) + math.cos(2);\n",
    "#Note that the result is computed silently, and the output is neither displayed on the screen or stored in the Out dictionary:\n",
    "\n",
    "In [15]: 14 in Out\n",
    "Out[15]: False"
   ]
  },
  {
   "cell_type": "markdown",
   "id": "c7133f2b-891a-406b-8bfc-e4b3e8ef2a30",
   "metadata": {},
   "source": [
    "#### Related Magic Commands"
   ]
  },
  {
   "cell_type": "code",
   "execution_count": null,
   "id": "e9bfefc2-79ad-4ca0-b797-64a1f173b971",
   "metadata": {},
   "outputs": [],
   "source": [
    "In [16]: %history -n 1-4\n",
    "   1: import math\n",
    "   2: math.sin(2)\n",
    "   3: math.cos(2)\n",
    "   4: print(In)"
   ]
  }
 ],
 "metadata": {
  "kernelspec": {
   "display_name": "Python 3 (ipykernel)",
   "language": "python",
   "name": "python3"
  },
  "language_info": {
   "codemirror_mode": {
    "name": "ipython",
    "version": 3
   },
   "file_extension": ".py",
   "mimetype": "text/x-python",
   "name": "python",
   "nbconvert_exporter": "python",
   "pygments_lexer": "ipython3",
   "version": "3.11.8"
  }
 },
 "nbformat": 4,
 "nbformat_minor": 5
}
