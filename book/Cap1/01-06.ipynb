{
 "cells": [
  {
   "cell_type": "markdown",
   "id": "d896e98f-26c6-4477-a322-76952427694b",
   "metadata": {},
   "source": [
    "## Errors and Debugging"
   ]
  },
  {
   "cell_type": "markdown",
   "id": "5a56c332-32bd-4b40-8d3c-6e79509f37be",
   "metadata": {},
   "source": [
    "Controlling Exceptions: %xmode\n",
    "Most of the time when a Python script fails, it will raise an Exception. When the interpreter hits one of these exceptions, information about the cause of the error can be found in the traceback, which can be accessed from within Python. With the %xmode magic function, IPython allows you to control the amount of information printed when the exception is raised. Consider the following code:\n",
    "\n",
    "```python\n",
    "def func1(a, b):\n",
    "    return a / b\n",
    "\n",
    "def func2(x):\n",
    "    a = x\n",
    "    b = x - 1\n",
    "    return func1(a, b)\n",
    "func2(1)\n",
    "```"
   ]
  },
  {
   "cell_type": "markdown",
   "id": "e3870dbe-b300-4494-913e-65829dc795b2",
   "metadata": {},
   "source": [
    "Calling func2 results in an error, and reading the printed trace lets us see exactly what happened. By default, this trace includes several lines showing the context of each step that led to the error. Using the %xmode magic function (short for Exception mode), we can change what information is printed.\n",
    "\n",
    "`%xmode` takes a single argument, the mode, and there are three possibilities: Plain, Context, and Verbose. The default is Context, and gives output like that just shown before. Plain is more compact and gives less information:\n",
    "\n",
    "```python\n",
    "%xmode Plain\n",
    "Exception reporting mode: Plain\n",
    "func2(1)\n",
    "```"
   ]
  },
  {
   "cell_type": "markdown",
   "id": "1c89081e-78b1-45b5-b379-00231c345f06",
   "metadata": {},
   "source": [
    "The Verbose mode adds some extra information, including the arguments to any functions that are called:\n",
    "```python\n",
    "%xmode Verbose\n",
    "Exception reporting mode: Verbose\n",
    "func2(1)\n",
    "```"
   ]
  },
  {
   "cell_type": "markdown",
   "id": "22df0acf-33cf-46cb-be0f-7a37982badd7",
   "metadata": {},
   "source": [
    "#### Debugging: When Reading Tracebacks Is Not Enough"
   ]
  },
  {
   "cell_type": "code",
   "execution_count": null,
   "id": "b2e80a9e-7b6a-4710-924d-1332d42015d4",
   "metadata": {},
   "outputs": [],
   "source": [
    "%debug\n",
    "> <ipython-input-1-d849e34d61fb>(2)func1()\n",
    "      1 def func1(a, b):\n",
    "----> 2     return a / b\n",
    "      3 \n",
    "\n",
    "ipdb> print(a)\n",
    "1\n",
    "ipdb> print(b)\n",
    "0\n",
    "ipdb> quit"
   ]
  },
  {
   "cell_type": "markdown",
   "id": "4d699307-dc3a-42b6-8423-0310ae62bc84",
   "metadata": {},
   "source": [
    "The interactive debugger allows much more than this, though–we can even step up and down through the stack and explore the values of variables there:\n",
    "\n",
    "```python\n",
    "%debug\n",
    "> <ipython-input-1-d849e34d61fb>(2)func1()\n",
    "      1 def func1(a, b):\n",
    "----> 2     return a / b\n",
    "      3 \n",
    "\n",
    "ipdb> up\n",
    "> <ipython-input-1-d849e34d61fb>(7)func2()\n",
    "      5     a = x\n",
    "      6     b = x - 1\n",
    "----> 7     return func1(a, b)\n",
    "\n",
    "ipdb> print(x)\n",
    "1\n",
    "ipdb> up\n",
    "> <ipython-input-6-b2e110f6fc8f>(1)<module>()\n",
    "----> 1 func2(1)\n",
    "\n",
    "ipdb> down\n",
    "> <ipython-input-1-d849e34d61fb>(7)func2()\n",
    "      5     a = x\n",
    "      6     b = x - 1\n",
    "----> 7     return func1(a, b)\n",
    "\n",
    "ipdb> quit\n",
    "```"
   ]
  },
  {
   "cell_type": "markdown",
   "id": "6b31d2a3-45cc-42b3-93cc-db321042d2e6",
   "metadata": {},
   "source": [
    "```python\n",
    "%xmode Plain\n",
    "%pdb on\n",
    "func2(1)\n",
    "```"
   ]
  },
  {
   "cell_type": "markdown",
   "id": "9c159ea3-be6a-4afd-95f0-6c0e11a1b797",
   "metadata": {},
   "source": [
    "### Partial list of debugging commands\n",
    "There are many more available commands for interactive debugging than we've listed here; the following table contains a description of some of the more common and useful ones:\n",
    "```python\n",
    "Command\tDescription\n",
    "list\tShow the current location in the file\n",
    "h(elp)\tShow a list of commands, or find help on a specific command\n",
    "q(uit)\tQuit the debugger and the program\n",
    "c(ontinue)\tQuit the debugger, continue in the program\n",
    "n(ext)\tGo to the next step of the program\n",
    "<enter>\tRepeat the previous command\n",
    "p(rint)\tPrint variables\n",
    "s(tep)\tStep into a subroutine\n",
    "r(eturn)\tReturn out of a subroutine\n",
    "For more information, use the help command in the debugger, or take a look at ipdb's online documentation.\n",
    "```"
   ]
  },
  {
   "cell_type": "code",
   "execution_count": null,
   "id": "96893539-ccbf-40da-bd2c-c5b9fafd6d87",
   "metadata": {},
   "outputs": [],
   "source": []
  }
 ],
 "metadata": {
  "kernelspec": {
   "display_name": "Python 3 (ipykernel)",
   "language": "python",
   "name": "python3"
  },
  "language_info": {
   "codemirror_mode": {
    "name": "ipython",
    "version": 3
   },
   "file_extension": ".py",
   "mimetype": "text/x-python",
   "name": "python",
   "nbconvert_exporter": "python",
   "pygments_lexer": "ipython3",
   "version": "3.11.8"
  }
 },
 "nbformat": 4,
 "nbformat_minor": 5
}
