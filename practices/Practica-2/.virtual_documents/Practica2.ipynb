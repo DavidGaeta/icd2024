




















import pandas as pd
import numpy as np
import seaborn as sn
import matplotlib.pyplot as plt








df = pd.read_csv(r'planets.csv')








rows, columns = df.shape 
print("Renglones: ", rows , "\nColumnas: ", columns)





df.info()





df.head(25)


plt.figure(figsize=(12, 8))
sn.heatmap(df.isnull(), cbar=False, cmap='viridis')
plt.title('Valores perdidos')
plt.show()











#Se hace una lista de las columnas que apotan el margen de error para cada atributo
ControlError = ['pl_orbpererr1','pl_orbpererr2','pl_orbperlim','pl_orbsmaxerr1','pl_orbsmaxerr2','pl_orbsmaxlim','pl_orbeccenerr1','pl_orbeccenerr2','pl_orbeccenlim','pl_orbinclerr1','pl_orbinclerr2','pl_orbincllim','pl_bmassjerr1','pl_bmassjerr2','pl_bmassjlim','pl_radjerr1','pl_radjerr2','pl_radjlim','pl_denserr1','pl_denserr2','pl_denslim','st_disterr1','st_disterr2','st_distlim','st_optmagerr','st_optmaglim','st_optmagblend','st_tefferr1','st_tefferr2','st_tefflim','st_teffblend','st_masserr1','st_masserr2','st_masslim','st_massblend','st_raderr1','st_raderr2','st_radlim','st_radblend','rowupdate']
#Es usado el metodo .drop para eliminarlas
dfl = df.drop(columns=ControlError)


df.head()


plt.figure(figsize=(12, 8))
sn.heatmap(dfl.isnull(), cbar=False, cmap='viridis')
plt.title('Valores perdidos')
plt.show()


dfl2 = dfl.drop(columns = ['pl_discmethod','pl_bmassprov','ra_str','dec_str','rowid'])
dfl2.info()





from sklearn.preprocessing import LabelEncoder


columnas_strings = ['pl_hostname', 'pl_letter','st_optband']
le = LabelEncoder()
dfle=dfl2
for col in columnas_strings:
    dfle[col] = le.fit_transform(dfl2[col])


correlacion = dfle.corr()
plt.figure(figsize=(10, 8))
sn.heatmap(correlacion, annot=True, cmap='coolwarm').set(title="Matriz de correlación")
plt.show()








from sklearn.decomposition import PCA
from sklearn.preprocessing import StandardScaler


# Rellenar las celdas con el promedio de cada dato
dfle.fillna(dfle.mean(), inplace=True)


# Seleccionar solo las columnas numéricas
X = dfle.select_dtypes(include=[np.number])

# Estandarizar los datos
scaler = StandardScaler()
X_scaled = scaler.fit_transform(X)


print(X_scaled)


# Comprobar si hay NaN en X
print("Valores NaN en X antes de escalar:")
print(X.isnull().sum())


# Inicializar PCA para que capture todas las componentes
pca = PCA(n_components=None)  # Puedes especificar un número o dejar None para todas

# Ajustar PCA a los datos
pca.fit(X_scaled)

# Transformar los datos
X_pca = pca.transform(X_scaled)


pca = PCA(n_components=2)
X_pca = pca.fit_transform(X_scaled)

# Visualizar los resultados
print(X_pca)


pca_df = pd.DataFrame(data=X_pca, columns=['Componente 1', 'Componente 2'])

# Imprimir el DataFrame de las componentes principales
print(pca_df.head())  # Muestra las primeras filas


# Graficar las dos primeras componentes
plt.figure(figsize=(10, 6))
plt.scatter(pca_df['Componente 1'], pca_df['Componente 2'], alpha=0.2)
plt.title('Gráfico de Dispersión de las Componentes Principales')
plt.xlabel('Componente 1')
plt.ylabel('Componente 2')
plt.grid()
plt.show()





promedio_rad = df['st_rad'].mean()
print("Promedio de tamaño en radios solares \t",promedio_rad)


sn.countplot(x='st_rad', data=df).set(
    xlabel="Radio", 
    title="Datos")
plt.show()





sn.scatterplot(x='st_optmag', y='st_rad', data=df).set(
    xlabel="Magnitud de la estrella", 
    ylabel="Radio de la estrella",
    title="Datos")
plt.show()





sn.scatterplot(data=df,x='st_rad',y='pl_pnum',hue='st_optmag').set(
    xlabel="Radio de la estrella (radios solares)", 
    ylabel="Cantidad de planetas",
    title="Relación entre el radio de la estrella y cantidad de planetas")





plt.figure(figsize=(10, 6))
sn.scatterplot(data=df, x='st_teff', y='pl_pnum')
plt.xlabel('K')
plt.ylabel('Cantidad de planetas')
plt.title('Relación entre cantidad de planetas y temperatura de la estrella')
plt.show()





plt.figure()
sn.scatterplot(data=df,x='st_mass',y='pl_pnum',hue='st_optmag').set(
    xlabel="Masa de la estrella (masas solares)", 
    ylabel="Cantidad de planetas",
    title="Relación entre masa de la estrella y cantidad de planetas")





plt.figure()
plt.figure(figsize=(10, 6))
indexmax = df['pl_orbper'].idxmax()
df = df.drop(index=indexmax)
sn.scatterplot(data=df, x='pl_bmassj', y='pl_orbper')
plt.xlabel('Cantidad de masas de Júpiter')
plt.ylabel('Período orbital (días)')
plt.title('Relación masas Júpiter y su período orbital')
plt.show()





plt.figure(figsize=(10, 6))
sn.histplot(df['pl_bmassj'], bins=30, kde=True)
plt.title('Distribución de las masas de los exoplanetas (en masas de Júpiter)')
plt.xlabel('Masa del exoplaneta (M_J)')
plt.ylabel('Frecuencia')
masmed=df['pl_bmassj'].median()
plt.show()
print("La media de la masa de un exoplaneta es: ",masmed," masas de Júpiter.")





plt.figure(figsize=(10, 6))
sn.histplot(df['pl_orbper'], bins=30, kde=True)
plt.title('Distribución de los períodos orbitales')
plt.xlabel('Período orbital (días)')
plt.ylabel('Frecuencia')
pomed=df['pl_orbper'].median()
plt.show()
print("La media del tiempo de órbita de un exoplaneta es: ",pomed,"días.")





plt.figure(figsize=(10, 6))
sn.scatterplot(data=df, x='pl_bmassj', y='pl_radj')
plt.xlabel('Masa del exoplaneta (en masas de Júpiter)')
plt.ylabel('Radio (en radios de Júpiter)')
plt.title('Relación entre la masa y el radio del exoplaneta')
radj=df['pl_radj'].median()
massj=df['pl_bmassj'].median()
plt.show()
print(radj,massj)









