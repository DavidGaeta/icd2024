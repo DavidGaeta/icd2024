

















import pandas as pd
import numpy as np
import seaborn as sn
import matplotlib.pyplot as plt








df = pd.read_csv(r'planets.csv')








rows, columns = df.shape 
print("Renglones: ", rows , "\nColumnas: ", columns)





df.info()





df.head(25)





plt.figure()
sn.scatterplot(data=df,x='st_mass',y='pl_pnum',hue='st_optmag').set(
    xlabel="Masa de la estrella (masas solares)", 
    ylabel="Cantidad de planetas",
    title="Relacion entre masa de la estrella y cantidad de planetas")


plt.figure()
sn.distplot(data=df, x='pl_bmassj', y='pl_orbper').set(
    xlabel="Cantidad de masas de Júpiter", 
    ylabel="Período orbital en días",
    title="Relación entre masas de Júpiter y período orbital"
)

plt.autoscale()  # Asegura que los límites de los ejes se ajusten automáticamente

plt.show()


df.plot.scatter( x='pl_bmassj',y='pl_orbper')


print(df['pl_orbper'])


print(df['pl_bmassj'])


plt.figure(figsize=(10, 6))
sn.histplot(df['pl_bmassj'], bins=30, kde=True)
plt.title('Distribución de las masas de los exoplanetas (en masas de Júpiter)')
plt.xlabel('Masa del exoplaneta (M_J)')
plt.ylabel('Frecuencia')
plt.show()


plt.figure(figsize=(10, 6))
sn.histplot(df['pl_orbper'], bins=30, kde=True)
plt.title('Distribución de los períodos orbitales')
plt.xlabel('Período orbital (días)')
plt.ylabel('Frecuencia')
plt.show()


corr_matrix = df.corr()

# Mostrar la matriz de correlación
plt.figure(figsize=(10, 8))
sn.heatmap(corr_matrix, annot=True, cmap='coolwarm', linewidths=0.5)
plt.title('Matriz de correlación de las características')
plt.show()


plt.figure(figsize=(10, 6))
sn.scatterplot(data=df, x='pl_bmassj', y='pl_orbsmax')
#plt.ylim(0, df['pl_orbper'].max())
plt.xlabel('Masa del exoplaneta (en masas de Júpiter)')
#plt.ylabel('Período orbital (en días)')
plt.title('Relación entre la masa del exoplaneta y el período orbital')
plt.show()


plt.figure(figsize=(10, 6))
sn.scatterplot(data=df, x='st_teff', y='pl_pnum')
#plt.ylim(0, df['pl_orbper'].max())
plt.xlabel('K')
plt.ylabel('Cantidad de planetas')
plt.title('Relacion entre cantidad de planetas y temperatura de la estrella')
plt.show()


sn. boxplot(df, x='pl_dens', kind='hist', bins=30)
plt.show()


kmin = df['st_teff'].min()
indexmin = df['st_teff'].idxmin()
print(indexmin,kmin)
