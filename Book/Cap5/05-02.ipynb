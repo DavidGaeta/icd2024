{
 "cells": [
  {
   "cell_type": "markdown",
   "id": "65d86f01-d8a0-4f38-909e-e7ebdb76df77",
   "metadata": {},
   "source": [
    "## Understanding Data Types in Python\n",
    "Eber David Gaytan Medina\n",
    "\n",
    "\n",
    "In the process of developing code and creating data processing pipelines, there are often trade-offs you can make between various implementations. Early in developing your algorithm, it can be counterproductive to worry about such things. As Donald Knuth famously quipped, \"We should forget about small efficiencies, say about 97% of the time: premature optimization is the root of all evil.\"\n",
    "\n",
    "But once you have your code working, it can be useful to dig into its efficiency a bit. Sometimes it's useful to check the execution time of a given command or set of commands; other times it's useful to dig into a multiline process and determine where the bottleneck lies in some complicated series of operations. IPython provides access to a wide array of functionality for this kind of timing and profiling of code. Here we'll discuss the following IPython magic commands:\n",
    "\n",
    "```bash\n",
    "%time: Time the execution of a single statement\n",
    "%timeit: Time repeated execution of a single statement for more accuracy\n",
    "%prun: Run code with the profiler\n",
    "%lprun: Run code with the line-by-line profiler\n",
    "%memit: Measure the memory use of a single statement\n",
    "%mprun: Run code with the line-by-line memory profiler\n",
    "```"
   ]
  },
  {
   "cell_type": "code",
   "execution_count": null,
   "id": "234b6442",
   "metadata": {},
   "outputs": [],
   "source": [
    "#Users of Python are often drawn-in by its ease of use, one piece of which is dynamic typing. While a statically-typed language like C or Java requires each variable to be explicitly declared, a dynamically-typed language like Python skips this specification. For example, in C you might specify a particular operation as follows:\n",
    "\n",
    "/* C code */\n",
    "int result = 0;\n",
    "for(int i=0; i<100; i++){\n",
    "    result += i;\n",
    "3}\n",
    "#While in Python the equivalent operation could be written this way:\n",
    "\n",
    "# Python code\n",
    "result = 0\n",
    "for i in range(100):\n",
    "    result += i\n",
    "#Notice the main difference: in C, the data types of each variable are explicitly declared, while in Python the types are dynamically inferred. This means, for example, that we can assign any kind of data to any variable:\n",
    "\n",
    "# Python code\n",
    "x = 4\n",
    "x = \"four\"\n",
    "#ere we've switched the contents of x from an integer to a string. The same thing in C would lead (depending on compiler settings) to a compilation error or other unintented consequences:\n",
    "\n",
    "/* C code */\n",
    "int x = 4;\n",
    "x = \"four\";  // FAILS"
   ]
  },
  {
   "cell_type": "code",
   "execution_count": null,
   "id": "94a77051",
   "metadata": {},
   "outputs": [],
   "source": [
    "#The standard Python implementation is written in C. This means that every Python object is simply a cleverly-disguised C structure, which contains not only its value, but other information as well. For example, when we define an integer in Python, such as x = 10000, x is not just a \"raw\" integer. It's actually a pointer to a compound C structure, which contains several values. Looking through the Python 3.4 source code, we find that the integer (long) type definition effectively looks like this (once the C macros are expanded):\n",
    "\n",
    "struct _longobject {\n",
    "    long ob_refcnt;\n",
    "    PyTypeObject *ob_type;\n",
    "    size_t ob_size;\n",
    "    long ob_digit[1];\n",
    "};\n"
   ]
  },
  {
   "cell_type": "code",
   "execution_count": null,
   "id": "bced971c",
   "metadata": {},
   "outputs": [],
   "source": [
    "L = list(range(10))\n",
    "L\n",
    "[0, 1, 2, 3, 4, 5, 6, 7, 8, 9]\n",
    "type(L[0])\n",
    "int\n",
    "#Or, similarly, a list of strings:\n",
    "\n",
    "L2 = [str(c) for c in L]\n",
    "L2\n",
    "['0', '1', '2', '3', '4', '5', '6', '7', '8', '9']\n",
    "type(L2[0])\n",
    "str\n",
    "#Because of Python's dynamic typing, we can even create heterogeneous lists:\n",
    "\n",
    "L3 = [True, \"2\", 3.0, 4]\n",
    "[type(item) for item in L3]"
   ]
  },
  {
   "cell_type": "code",
   "execution_count": null,
   "id": "5646d1c2",
   "metadata": {},
   "outputs": [],
   "source": []
  }
 ],
 "metadata": {
  "kernelspec": {
   "display_name": "Python 3 (ipykernel)",
   "language": "python",
   "name": "python3"
  },
  "language_info": {
   "codemirror_mode": {
    "name": "ipython",
    "version": 3
   },
   "file_extension": ".py",
   "mimetype": "text/x-python",
   "name": "python",
   "nbconvert_exporter": "python",
   "pygments_lexer": "ipython3",
   "version": "3.11.8"
  }
 },
 "nbformat": 4,
 "nbformat_minor": 5
}
