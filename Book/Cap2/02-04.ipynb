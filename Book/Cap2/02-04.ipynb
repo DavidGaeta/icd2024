{
 "cells": [
  {
   "cell_type": "markdown",
   "id": "65d86f01-d8a0-4f38-909e-e7ebdb76df77",
   "metadata": {},
   "source": [
    "## Aggregations: Min, Max, and Everything In Between\n",
    "Eber David Gaytan Medina\n",
    "\n",
    "Often when faced with a large amount of data, a first step is to compute summary statistics for the data in question. Perhaps the most common summary statistics are the mean and standard deviation, which allow you to summarize the \"typical\" values in a dataset, but other aggregates are useful as well (the sum, product, median, minimum and maximum, quantiles, etc.).\n",
    "\n",
    "NumPy has fast built-in aggregation functions for working on arrays; we'll discuss and demonstrate some of them here."
   ]
  },
  {
   "cell_type": "code",
   "execution_count": 1,
   "id": "12eae991",
   "metadata": {},
   "outputs": [
    {
     "data": {
      "text/plain": [
       "51.11481177469645"
      ]
     },
     "execution_count": 1,
     "metadata": {},
     "output_type": "execute_result"
    }
   ],
   "source": [
    "import numpy as np\n",
    "L = np.random.random(100)\n",
    "sum(L)"
   ]
  },
  {
   "cell_type": "code",
   "execution_count": null,
   "id": "7e6f82fc",
   "metadata": {},
   "outputs": [],
   "source": [
    "np.sum(L)\n",
    "55.612091166049424"
   ]
  },
  {
   "cell_type": "code",
   "execution_count": null,
   "id": "a882c5a6",
   "metadata": {},
   "outputs": [],
   "source": [
    "big_array = np.random.rand(1000000)\n",
    "%timeit sum(big_array)\n",
    "%timeit np.sum(big_array)\n",
    "10 loops, best of 3: 104 ms per loop\n",
    "1000 loops, best of 3: 442 µs per loop"
   ]
  },
  {
   "cell_type": "code",
   "execution_count": null,
   "id": "8e90604f",
   "metadata": {},
   "outputs": [],
   "source": [
    "\n",
    "min(big_array), max(big_array)\n",
    "(1.1717128136634614e-06, 0.9999976784968716)"
   ]
  },
  {
   "cell_type": "code",
   "execution_count": null,
   "id": "6f45b53f",
   "metadata": {},
   "outputs": [],
   "source": [
    "np.min(big_array), np.max(big_array)\n",
    "(1.1717128136634614e-06, 0.9999976784968716)\n",
    "%timeit min(big_array)\n",
    "%timeit np.min(big_array)\n",
    "10 loops, best of 3: 82.3 ms per loop\n",
    "1000 loops, best of 3: 497 µs per loop"
   ]
  },
  {
   "cell_type": "code",
   "execution_count": null,
   "id": "ff907361",
   "metadata": {},
   "outputs": [],
   "source": [
    "print(big_array.min(), big_array.max(), big_array.sum())\n",
    "1.17171281366e-06 0.999997678497 499911.628197"
   ]
  },
  {
   "cell_type": "code",
   "execution_count": null,
   "id": "c2192353",
   "metadata": {},
   "outputs": [],
   "source": [
    "M = np.random.random((3, 4))\n",
    "print(M)\n",
    "[[ 0.8967576   0.03783739  0.75952519  0.06682827]\n",
    " [ 0.8354065   0.99196818  0.19544769  0.43447084]\n",
    " [ 0.66859307  0.15038721  0.37911423  0.6687194 ]]"
   ]
  },
  {
   "cell_type": "code",
   "execution_count": null,
   "id": "c585b4f3",
   "metadata": {},
   "outputs": [],
   "source": [
    "M.sum()\n",
    "6.0850555667307118"
   ]
  },
  {
   "cell_type": "code",
   "execution_count": null,
   "id": "393c0895",
   "metadata": {},
   "outputs": [],
   "source": [
    "M.min(axis=0)\n",
    "array([ 0.66859307,  0.03783739,  0.19544769,  0.06682827])"
   ]
  },
  {
   "cell_type": "code",
   "execution_count": null,
   "id": "f9587599",
   "metadata": {},
   "outputs": [],
   "source": [
    "M.max(axis=1)\n",
    "array([ 0.8967576 ,  0.99196818,  0.6687194 ])"
   ]
  },
  {
   "cell_type": "code",
   "execution_count": null,
   "id": "cbcc07a9",
   "metadata": {},
   "outputs": [],
   "source": [
    "!head -4 data/president_heights.csv\n",
    "order,name,height(cm)\n",
    "1,George Washington,189\n",
    "2,John Adams,170\n",
    "3,Thomas Jefferson,189"
   ]
  },
  {
   "cell_type": "code",
   "execution_count": null,
   "id": "0add65ac",
   "metadata": {},
   "outputs": [],
   "source": [
    "import pandas as pd\n",
    "data = pd.read_csv('data/president_heights.csv')\n",
    "heights = np.array(data['height(cm)'])\n",
    "print(heights)\n",
    "[189 170 189 163 183 171 185 168 173 183 173 173 175 178 183 193 178 173\n",
    " 174 183 183 168 170 178 182 180 183 178 182 188 175 179 183 193 182 183\n",
    " 177 185 188 188 182 185]"
   ]
  },
  {
   "cell_type": "code",
   "execution_count": null,
   "id": "955492ee",
   "metadata": {},
   "outputs": [],
   "source": [
    "print(\"Mean height:       \", heights.mean())\n",
    "print(\"Standard deviation:\", heights.std())\n",
    "print(\"Minimum height:    \", heights.min())\n",
    "print(\"Maximum height:    \", heights.max())\n",
    "Mean height:        179.738095238\n",
    "Standard deviation: 6.93184344275\n",
    "Minimum height:     163\n",
    "Maximum height:     193"
   ]
  },
  {
   "cell_type": "code",
   "execution_count": null,
   "id": "e2c28555",
   "metadata": {},
   "outputs": [],
   "source": [
    "print(\"25th percentile:   \", np.percentile(heights, 25))\n",
    "print(\"Median:            \", np.median(heights))\n",
    "print(\"75th percentile:   \", np.percentile(heights, 75))\n",
    "25th percentile:    174.25\n",
    "Median:             182.0\n",
    "75th percentile:    183.0"
   ]
  },
  {
   "cell_type": "code",
   "execution_count": null,
   "id": "7e6d594f",
   "metadata": {},
   "outputs": [],
   "source": [
    "%matplotlib inline\n",
    "import matplotlib.pyplot as plt\n",
    "import seaborn; seaborn.set()  # set plot style\n",
    "plt.hist(heights)\n",
    "plt.title('Height Distribution of US Presidents')\n",
    "plt.xlabel('height (cm)')\n",
    "plt.ylabel('number');"
   ]
  },
  {
   "attachments": {
    "image.png": {
     "image/png": "[encoded data removed]"
    }
   },
   "cell_type": "markdown",
   "id": "d624b0f9",
   "metadata": {},
   "source": [
    "![image.png](attachment:image.png)\n"
   ]
  },
  {
   "cell_type": "code",
   "execution_count": null,
   "id": "fc84333b",
   "metadata": {},
   "outputs": [],
   "source": []
  },
  {
   "cell_type": "code",
   "execution_count": null,
   "id": "b3e2dcdc",
   "metadata": {},
   "outputs": [],
   "source": []
  }
 ],
 "metadata": {
  "kernelspec": {
   "display_name": "base",
   "language": "python",
   "name": "python3"
  },
  "language_info": {
   "codemirror_mode": {
    "name": "ipython",
    "version": 3
   },
   "file_extension": ".py",
   "mimetype": "text/x-python",
   "name": "python",
   "nbconvert_exporter": "python",
   "pygments_lexer": "ipython3",
   "version": "3.11.8"
  }
 },
 "nbformat": 4,
 "nbformat_minor": 5
}
