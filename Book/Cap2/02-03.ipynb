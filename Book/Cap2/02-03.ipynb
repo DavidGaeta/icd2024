{
 "cells": [
  {
   "cell_type": "markdown",
   "id": "65d86f01-d8a0-4f38-909e-e7ebdb76df77",
   "metadata": {},
   "source": [
    "## Computation on NumPy Arrays: Universal Functions\n",
    "Eber David Gaytan Medina\n",
    "\n",
    "\n"
   ]
  },
  {
   "cell_type": "code",
   "execution_count": null,
   "id": "352ca31b",
   "metadata": {},
   "outputs": [],
   "source": [
    "import numpy as np\n",
    "np.random.seed(0)\n",
    "\n",
    "def compute_reciprocals(values):\n",
    "    output = np.empty(len(values))\n",
    "    for i in range(len(values)):\n",
    "        output[i] = 1.0 / values[i]\n",
    "    return output\n",
    "        \n",
    "values = np.random.randint(1, 10, size=5)\n",
    "compute_reciprocals(values)"
   ]
  },
  {
   "cell_type": "code",
   "execution_count": null,
   "id": "c1684da5",
   "metadata": {},
   "outputs": [],
   "source": [
    "\n",
    "big_array = np.random.randint(1, 100, size=1000000)\n",
    "%timeit compute_reciprocals(big_array)"
   ]
  },
  {
   "cell_type": "code",
   "execution_count": null,
   "id": "d2f7c974",
   "metadata": {},
   "outputs": [],
   "source": [
    "%timeit (1.0 / big_array)"
   ]
  },
  {
   "cell_type": "code",
   "execution_count": null,
   "id": "09b73344",
   "metadata": {},
   "outputs": [],
   "source": [
    "x = np.arange(9).reshape((3, 3))\n",
    "2 ** x"
   ]
  },
  {
   "cell_type": "code",
   "execution_count": null,
   "id": "6cdb2864",
   "metadata": {},
   "outputs": [],
   "source": [
    "x = np.arange(4)\n",
    "print(\"x     =\", x)\n",
    "print(\"x + 5 =\", x + 5)\n",
    "print(\"x - 5 =\", x - 5)\n",
    "print(\"x * 2 =\", x * 2)\n",
    "print(\"x / 2 =\", x / 2)\n",
    "print(\"x // 2 =\", x // 2)  # floor division"
   ]
  },
  {
   "cell_type": "code",
   "execution_count": null,
   "id": "0bac8a08",
   "metadata": {},
   "outputs": [],
   "source": [
    "print(\"-x     = \", -x)\n",
    "print(\"x ** 2 = \", x ** 2)\n",
    "print(\"x % 2  = \", x % 2)\n",
    "-x     =  [ 0 -1 -2 -3]\n",
    "x ** 2 =  [0 1 4 9]\n",
    "x % 2  =  [0 1 0 1]"
   ]
  },
  {
   "cell_type": "code",
   "execution_count": null,
   "id": "6faaa134",
   "metadata": {},
   "outputs": [],
   "source": [
    "-(0.5*x + 1) ** 2\n",
    "array([-1.  , -2.25, -4.  , -6.25])"
   ]
  },
  {
   "cell_type": "code",
   "execution_count": null,
   "id": "cfd1bf65",
   "metadata": {},
   "outputs": [],
   "source": [
    "np.add(x, 2)\n",
    "array([2, 3, 4, 5])"
   ]
  },
  {
   "cell_type": "code",
   "execution_count": null,
   "id": "a484dcda",
   "metadata": {},
   "outputs": [],
   "source": [
    "x = np.array([-2, -1, 0, 1, 2])\n",
    "abs(x)\n",
    "array([2, 1, 0, 1, 2])"
   ]
  },
  {
   "cell_type": "code",
   "execution_count": null,
   "id": "864b89bc",
   "metadata": {},
   "outputs": [],
   "source": [
    "np.absolute(x)\n",
    "array([2, 1, 0, 1, 2])\n",
    "np.abs(x)\n",
    "array([2, 1, 0, 1, 2])"
   ]
  },
  {
   "cell_type": "code",
   "execution_count": null,
   "id": "58cd4e48",
   "metadata": {},
   "outputs": [],
   "source": [
    "x = np.array([3 - 4j, 4 - 3j, 2 + 0j, 0 + 1j])\n",
    "np.abs(x)\n",
    "array([ 5.,  5.,  2.,  1.])"
   ]
  },
  {
   "cell_type": "code",
   "execution_count": null,
   "id": "fd5c42e9",
   "metadata": {},
   "outputs": [],
   "source": [
    "theta = np.linspace(0, np.pi, 3)\n",
    "print(\"theta      = \", theta)\n",
    "print(\"sin(theta) = \", np.sin(theta))\n",
    "print(\"cos(theta) = \", np.cos(theta))\n",
    "print(\"tan(theta) = \", np.tan(theta))\n",
    "theta      =  [ 0.          1.57079633  3.14159265]\n",
    "sin(theta) =  [  0.00000000e+00   1.00000000e+00   1.22464680e-16]\n",
    "cos(theta) =  [  1.00000000e+00   6.12323400e-17  -1.00000000e+00]\n",
    "tan(theta) =  [  0.00000000e+00   1.63312394e+16  -1.22464680e-16]"
   ]
  },
  {
   "cell_type": "code",
   "execution_count": null,
   "id": "eff73cd1",
   "metadata": {},
   "outputs": [],
   "source": [
    "x = [-1, 0, 1]\n",
    "print(\"x         = \", x)\n",
    "print(\"arcsin(x) = \", np.arcsin(x))\n",
    "print(\"arccos(x) = \", np.arccos(x))\n",
    "print(\"arctan(x) = \", np.arctan(x))\n",
    "x         =  [-1, 0, 1]\n",
    "arcsin(x) =  [-1.57079633  0.          1.57079633]\n",
    "arccos(x) =  [ 3.14159265  1.57079633  0.        ]\n",
    "arctan(x) =  [-0.78539816  0.          0.78539816]"
   ]
  },
  {
   "cell_type": "code",
   "execution_count": null,
   "id": "403dbc7e",
   "metadata": {},
   "outputs": [],
   "source": [
    "x = [1, 2, 4, 10]\n",
    "print(\"x        =\", x)\n",
    "print(\"ln(x)    =\", np.log(x))\n",
    "print(\"log2(x)  =\", np.log2(x))\n",
    "print(\"log10(x) =\", np.log10(x))\n",
    "x        = [1, 2, 4, 10]\n",
    "ln(x)    = [ 0.          0.69314718  1.38629436  2.30258509]\n",
    "log2(x)  = [ 0.          1.          2.          3.32192809]\n",
    "log10(x) = [ 0.          0.30103     0.60205999  1.        ]"
   ]
  },
  {
   "cell_type": "code",
   "execution_count": null,
   "id": "c2d4e845",
   "metadata": {},
   "outputs": [],
   "source": [
    "x = [0, 0.001, 0.01, 0.1]\n",
    "print(\"exp(x) - 1 =\", np.expm1(x))\n",
    "print(\"log(1 + x) =\", np.log1p(x))\n",
    "exp(x) - 1 = [ 0.          0.0010005   0.01005017  0.10517092]\n",
    "log(1 + x) = [ 0.          0.0009995   0.00995033  0.09531018]"
   ]
  },
  {
   "cell_type": "code",
   "execution_count": null,
   "id": "a849e9e2",
   "metadata": {},
   "outputs": [],
   "source": [
    "from scipy import special\n",
    "# Gamma functions (generalized factorials) and related functions\n",
    "x = [1, 5, 10]\n",
    "print(\"gamma(x)     =\", special.gamma(x))\n",
    "print(\"ln|gamma(x)| =\", special.gammaln(x))\n",
    "print(\"beta(x, 2)   =\", special.beta(x, 2))\n",
    "gamma(x)     = [  1.00000000e+00   2.40000000e+01   3.62880000e+05]\n",
    "ln|gamma(x)| = [  0.           3.17805383  12.80182748]\n",
    "beta(x, 2)   = [ 0.5         0.03333333  0.00909091]"
   ]
  },
  {
   "cell_type": "code",
   "execution_count": null,
   "id": "d7b063a4",
   "metadata": {},
   "outputs": [],
   "source": [
    "# Error function (integral of Gaussian)\n",
    "# its complement, and its inverse\n",
    "x = np.array([0, 0.3, 0.7, 1.0])\n",
    "print(\"erf(x)  =\", special.erf(x))\n",
    "print(\"erfc(x) =\", special.erfc(x))\n",
    "print(\"erfinv(x) =\", special.erfinv(x))\n",
    "erf(x)  = [ 0.          0.32862676  0.67780119  0.84270079]\n",
    "erfc(x) = [ 1.          0.67137324  0.32219881  0.15729921]\n",
    "erfinv(x) = [ 0.          0.27246271  0.73286908         inf]"
   ]
  },
  {
   "cell_type": "code",
   "execution_count": null,
   "id": "cb38fdf5",
   "metadata": {},
   "outputs": [],
   "source": [
    "x = np.arange(5)\n",
    "y = np.empty(5)\n",
    "np.multiply(x, 10, out=y)\n",
    "print(y)\n",
    "[  0.  10.  20.  30.  40.]"
   ]
  },
  {
   "cell_type": "code",
   "execution_count": null,
   "id": "5414626b",
   "metadata": {},
   "outputs": [],
   "source": [
    "y = np.zeros(10)\n",
    "np.power(2, x, out=y[::2])\n",
    "print(y)\n",
    "[  1.   0.   2.   0.   4.   0.   8.   0.  16.   0.]"
   ]
  },
  {
   "cell_type": "code",
   "execution_count": null,
   "id": "3f031b28",
   "metadata": {},
   "outputs": [],
   "source": [
    "x = np.arange(1, 6)\n",
    "np.add.reduce(x)\n",
    "15"
   ]
  },
  {
   "cell_type": "code",
   "execution_count": null,
   "id": "5f7319b3",
   "metadata": {},
   "outputs": [],
   "source": [
    "np.multiply.reduce(x)\n",
    "120"
   ]
  },
  {
   "cell_type": "code",
   "execution_count": null,
   "id": "b8a12a59",
   "metadata": {},
   "outputs": [],
   "source": [
    "np.add.accumulate(x)\n",
    "array([ 1,  3,  6, 10, 15])\n",
    "np.multiply.accumulate(x)\n",
    "array([  1,   2,   6,  24, 120])"
   ]
  },
  {
   "cell_type": "code",
   "execution_count": null,
   "id": "44d208ef",
   "metadata": {},
   "outputs": [],
   "source": [
    "x = np.arange(1, 6)\n",
    "np.multiply.outer(x, x)\n",
    "array([[ 1,  2,  3,  4,  5],\n",
    "       [ 2,  4,  6,  8, 10],\n",
    "       [ 3,  6,  9, 12, 15],\n",
    "       [ 4,  8, 12, 16, 20],\n",
    "       [ 5, 10, 15, 20, 25]])"
   ]
  }
 ],
 "metadata": {
  "kernelspec": {
   "display_name": "Python 3 (ipykernel)",
   "language": "python",
   "name": "python3"
  },
  "language_info": {
   "codemirror_mode": {
    "name": "ipython",
    "version": 3
   },
   "file_extension": ".py",
   "mimetype": "text/x-python",
   "name": "python",
   "nbconvert_exporter": "python",
   "pygments_lexer": "ipython3",
   "version": "3.11.8"
  }
 },
 "nbformat": 4,
 "nbformat_minor": 5
}
