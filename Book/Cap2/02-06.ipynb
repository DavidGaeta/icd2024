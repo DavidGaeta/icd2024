{
 "cells": [
  {
   "cell_type": "markdown",
   "id": "65d86f01-d8a0-4f38-909e-e7ebdb76df77",
   "metadata": {},
   "source": [
    "## Comparisons, Masks, and Boolean Logic\n",
    "Eber David Gaytan Medina\n",
    "\n",
    "This section covers the use of Boolean masks to examine and manipulate values within NumPy arrays. Masking comes up when you want to extract, modify, count, or otherwise manipulate values in an array based on some criterion: for example, you might wish to count all values greater than a certain value, or perhaps remove all outliers that are above some threshold. In NumPy, Boolean masking is often the most efficient way to accomplish these types of tasks.\n",
    "\n"
   ]
  },
  {
   "cell_type": "code",
   "execution_count": null,
   "id": "6616ab4e",
   "metadata": {},
   "outputs": [],
   "source": [
    "import numpy as np\n",
    "import pandas as pd\n",
    "\n",
    "# use pandas to extract rainfall inches as a NumPy array\n",
    "rainfall = pd.read_csv('data/Seattle2014.csv')['PRCP'].values\n",
    "inches = rainfall / 254.0  # 1/10mm -> inches\n",
    "inches.shape"
   ]
  },
  {
   "cell_type": "code",
   "execution_count": null,
   "id": "c73c6bde",
   "metadata": {},
   "outputs": [],
   "source": [
    "%matplotlib inline\n",
    "import matplotlib.pyplot as plt\n",
    "import seaborn; seaborn.set()  # set plot styles\n",
    "plt.hist(inches, 40);\n"
   ]
  },
  {
   "attachments": {
    "image.png": {
     "image/png": "[encoded data removed]"
    }
   },
   "cell_type": "markdown",
   "id": "2945c244",
   "metadata": {},
   "source": [
    "![image.png](attachment:image.png)"
   ]
  },
  {
   "cell_type": "code",
   "execution_count": null,
   "id": "25fee694",
   "metadata": {},
   "outputs": [],
   "source": [
    "x = np.array([1, 2, 3, 4, 5])\n",
    "x < 3  # less than\n",
    "array([ True,  True, False, False, False], dtype=bool)\n",
    "x > 3  # greater than\n",
    "array([False, False, False,  True,  True], dtype=bool)\n",
    "x <= 3  # less than or equal\n",
    "array([ True,  True,  True, False, False], dtype=bool)\n",
    "x >= 3  # greater than or equal\n",
    "array([False, False,  True,  True,  True], dtype=bool)\n",
    "x != 3  # not equal\n",
    "array([ True,  True, False,  True,  True], dtype=bool)\n",
    "x == 3  # equal\n",
    "array([False, False,  True, False, False], dtype=bool)\n",
    "# is also possible to do an element-wise comparison of two arrays, and to include compound expressions:\n",
    "\n",
    "(2 * x) == (x ** 2)\n",
    "array([False,  True, False, False, False], dtype=bool)"
   ]
  },
  {
   "cell_type": "code",
   "execution_count": null,
   "id": "108fc48d",
   "metadata": {},
   "outputs": [],
   "source": [
    "rng = np.random.RandomState(0)\n",
    "x = rng.randint(10, size=(3, 4))\n",
    "x\n",
    "array([[5, 0, 3, 3],\n",
    "       [7, 9, 3, 5],\n",
    "       [2, 4, 7, 6]])\n",
    "x < 6\n",
    "array([[ True,  True,  True,  True],\n",
    "       [False, False,  True,  True],\n",
    "       [ True,  True, False, False]], dtype=bool)"
   ]
  },
  {
   "cell_type": "code",
   "execution_count": null,
   "id": "3129d8f1",
   "metadata": {},
   "outputs": [],
   "source": [
    "print(x)\n",
    "[[5 0 3 3]\n",
    " [7 9 3 5]\n",
    " [2 4 7 6]]"
   ]
  },
  {
   "cell_type": "code",
   "execution_count": null,
   "id": "2b5c32ae",
   "metadata": {},
   "outputs": [],
   "source": [
    "# how many values less than 6?\n",
    "np.count_nonzero(x < 6)"
   ]
  },
  {
   "cell_type": "code",
   "execution_count": null,
   "id": "0cd4c498",
   "metadata": {},
   "outputs": [],
   "source": [
    "np.sum(x < 6)\n",
    "8"
   ]
  },
  {
   "cell_type": "code",
   "execution_count": null,
   "id": "67af0e45",
   "metadata": {},
   "outputs": [],
   "source": [
    "# how many values less than 6 in each row?\n",
    "np.sum(x < 6, axis=1)\n",
    "array([4, 2, 2])"
   ]
  },
  {
   "cell_type": "code",
   "execution_count": null,
   "metadata": {},
   "outputs": [],
   "source": [
    "# are there any values greater than 8?\n",
    "np.any(x > 8)\n",
    "True\n",
    "# are there any values less than zero?\n",
    "np.any(x < 0)\n",
    "False\n",
    "# are all values less than 10?\n",
    "np.all(x < 10)\n",
    "True\n",
    "# are all values equal to 6?\n",
    "np.all(x == 6)\n",
    "False"
   ]
  },
  {
   "cell_type": "code",
   "execution_count": null,
   "id": "fca25083",
   "metadata": {},
   "outputs": [],
   "source": [
    "# are all values in each row less than 8?\n",
    "np.all(x < 8, axis=1)\n",
    "array([ True, False,  True], dtype=bool)"
   ]
  },
  {
   "cell_type": "code",
   "execution_count": null,
   "id": "bc676398",
   "metadata": {},
   "outputs": [],
   "source": [
    "print(\"Number days without rain:      \", np.sum(inches == 0))\n",
    "print(\"Number days with rain:         \", np.sum(inches != 0))\n",
    "print(\"Days with more than 0.5 inches:\", np.sum(inches > 0.5))\n",
    "print(\"Rainy days with < 0.2 inches  :\", np.sum((inches > 0) &\n",
    "                                                (inches < 0.2)))\n",
    "Number days without rain:       215\n",
    "Number days with rain:          150\n",
    "Days with more than 0.5 inches: 37\n",
    "Rainy days with < 0.2 inches  : 75"
   ]
  },
  {
   "cell_type": "code",
   "execution_count": null,
   "id": "136e5083",
   "metadata": {},
   "outputs": [],
   "source": [
    "x\n",
    "array([[5, 0, 3, 3],\n",
    "       [7, 9, 3, 5],\n",
    "       [2, 4, 7, 6]])\n",
    "#We can obtain a Boolean array for this condition easily, as we've already seen:\n",
    "\n",
    "x < 5\n",
    "array([[False,  True,  True,  True],\n",
    "       [False, False,  True, False],\n",
    "       [ True,  True, False, False]], dtype=bool)\n",
    "#Now to select these values from the array, we can simply index on this Boolean array; this is known as a masking operation:\n",
    "\n",
    "x[x < 5]\n",
    "array([0, 3, 3, 3, 2, 4])"
   ]
  },
  {
   "cell_type": "code",
   "execution_count": null,
   "id": "36dd09c5",
   "metadata": {},
   "outputs": [],
   "source": [
    "# construct a mask of all rainy days\n",
    "rainy = (inches > 0)\n",
    "\n",
    "# construct a mask of all summer days (June 21st is the 172nd day)\n",
    "days = np.arange(365)\n",
    "summer = (days > 172) & (days < 262)\n",
    "\n",
    "print(\"Median precip on rainy days in 2014 (inches):   \",\n",
    "      np.median(inches[rainy]))\n",
    "print(\"Median precip on summer days in 2014 (inches):  \",\n",
    "      np.median(inches[summer]))\n",
    "print(\"Maximum precip on summer days in 2014 (inches): \",\n",
    "      np.max(inches[summer]))\n",
    "print(\"Median precip on non-summer rainy days (inches):\",\n",
    "      np.median(inches[rainy & ~summer]))\n",
    "Median precip on rainy days in 2014 (inches):    0.194881889764\n",
    "Median precip on summer days in 2014 (inches):   0.0\n",
    "Maximum precip on summer days in 2014 (inches):  0.850393700787\n",
    "Median precip on non-summer rainy days (inches): 0.200787401575"
   ]
  },
  {
   "cell_type": "code",
   "execution_count": null,
   "id": "1c1b60ef",
   "metadata": {},
   "outputs": [],
   "source": [
    "bool(42), bool(0)\n",
    "(True, False)\n",
    "bool(42 and 0)\n",
    "False\n",
    "bool(42 or 0)\n",
    "True"
   ]
  },
  {
   "cell_type": "code",
   "execution_count": null,
   "id": "f11cbfb3",
   "metadata": {},
   "outputs": [],
   "source": [
    "A = np.array([1, 0, 1, 0, 1, 0], dtype=bool)\n",
    "B = np.array([1, 1, 1, 0, 1, 1], dtype=bool)\n",
    "A | B\n",
    "array([ True,  True,  True, False,  True,  True], dtype=bool)"
   ]
  },
  {
   "cell_type": "code",
   "execution_count": null,
   "id": "2e225d76",
   "metadata": {},
   "outputs": [],
   "source": [
    "x = np.arange(10)\n",
    "(x > 4) & (x < 8)"
   ]
  },
  {
   "cell_type": "code",
   "execution_count": null,
   "id": "2e109573",
   "metadata": {},
   "outputs": [],
   "source": []
  },
  {
   "cell_type": "code",
   "execution_count": null,
   "id": "989cdcbf",
   "metadata": {},
   "outputs": [],
   "source": []
  },
  {
   "cell_type": "code",
   "execution_count": null,
   "id": "520f3ee7",
   "metadata": {},
   "outputs": [],
   "source": []
  },
  {
   "cell_type": "code",
   "execution_count": null,
   "id": "6015edb4",
   "metadata": {},
   "outputs": [],
   "source": []
  },
  {
   "cell_type": "code",
   "execution_count": null,
   "id": "e63f3632",
   "metadata": {},
   "outputs": [],
   "source": []
  }
 ],
 "metadata": {
  "kernelspec": {
   "display_name": "base",
   "language": "python",
   "name": "python3"
  },
  "language_info": {
   "codemirror_mode": {
    "name": "ipython",
    "version": 3
   },
   "file_extension": ".py",
   "mimetype": "text/x-python",
   "name": "python",
   "nbconvert_exporter": "python",
   "pygments_lexer": "ipython3",
   "version": "3.11.8"
  }
 },
 "nbformat": 4,
 "nbformat_minor": 5
}
