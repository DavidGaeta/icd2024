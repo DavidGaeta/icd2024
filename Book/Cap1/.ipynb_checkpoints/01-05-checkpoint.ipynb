{
 "cells": [
  {
   "cell_type": "markdown",
   "id": "5da34882-be61-4923-82df-cf8b9deda21f",
   "metadata": {},
   "source": [
    "## IPython and Shell Commands\n",
    "Eber David Gaytan Medina"
   ]
  },
  {
   "cell_type": "markdown",
   "id": "9a4b0fcd-b629-4dec-8c8e-016c76099fc1",
   "metadata": {},
   "source": [
    "```bash\n",
    "osx:~ $ echo \"hello world\"             # echo is like Python's print function\n",
    "hello world\n",
    "\n",
    "osx:~ $ pwd                            # pwd = print working directory\n",
    "/home/jake                             # this is the \"path\" that we're sitting in\n",
    "\n",
    "osx:~ $ ls                             # ls = list working directory contents\n",
    "notebooks  projects \n",
    "\n",
    "osx:~ $ cd projects/                   # cd = change directory\n",
    "\n",
    "osx:projects $ pwd\n",
    "/home/jake/projects\n",
    "\n",
    "osx:projects $ ls\n",
    "datasci_book   mpld3   myproject.txt\n",
    "\n",
    "osx:projects $ mkdir myproject          # mkdir = make new directory\n",
    "\n",
    "osx:projects $ cd myproject/\n",
    "\n",
    "osx:myproject $ mv ../myproject.txt ./  # mv = move file. Here we're moving the\n",
    "                                        # file myproject.txt from one directory\n",
    "                                        # up (../) to the current directory (./)\n",
    "osx:myproject $ ls\n",
    "myproject.txt\n",
    "```"
   ]
  },
  {
   "cell_type": "markdown",
   "id": "ff550291-9ab0-4740-9dd3-ff108f4db5fd",
   "metadata": {},
   "source": [
    "#### Shell commands in IPython\n",
    "```python\n",
    "In [1]: !ls\n",
    "myproject.txt\n",
    "\n",
    "In [2]: !pwd\n",
    "/home/jake/projects/myproject\n",
    "\n",
    "In [3]: !echo \"printing from the shell\"\n",
    "printing from the shell\n",
    "```"
   ]
  },
  {
   "cell_type": "markdown",
   "id": "04761d79-3f0c-411f-a94a-69761851886c",
   "metadata": {},
   "source": [
    "#### Passing Values to and from the Shell"
   ]
  },
  {
   "cell_type": "markdown",
   "id": "f3923135-572b-490e-b656-8b8e355bdafb",
   "metadata": {},
   "source": [
    "```python \n",
    "In [4]: contents = !ls\n",
    "\n",
    "In [5]: print(contents)\n",
    "['myproject.txt']\n",
    "\n",
    "In [6]: directory = !pwd\n",
    "\n",
    "In [7]: print(directory)\n",
    "['/Users/jakevdp/notebooks/tmp/myproject']\n",
    "```"
   ]
  },
  {
   "cell_type": "code",
   "execution_count": null,
   "id": "3fa13ff9-ec67-4708-a2c7-3227c7532c01",
   "metadata": {},
   "outputs": [],
   "source": [
    "In [8]: type(directory)\n",
    "IPython.utils.text.SList"
   ]
  },
  {
   "cell_type": "markdown",
   "id": "b35d5e59-1326-4d6d-b3b5-eb462db0fb32",
   "metadata": {},
   "source": [
    "```python\n",
    "In [9]: message = \"hello from Python\"\n",
    "\n",
    "In [10]: !echo {message}\n",
    "hello from Python\n",
    "```"
   ]
  },
  {
   "cell_type": "markdown",
   "id": "d5372573-e892-42fd-b8a2-6514dcec4fb9",
   "metadata": {},
   "source": [
    "#### Shell-Related Magic Commands"
   ]
  },
  {
   "cell_type": "markdown",
   "id": "32f20495-66d8-4ca3-82dd-a2ef68c4de5d",
   "metadata": {},
   "source": [
    "If you play with IPython's shell commands for a while, you might notice that you cannot use !cd to navigate the filesystem:\n",
    "```python\n",
    "In [11]: !pwd\n",
    "/home/jake/projects/myproject\n",
    "\n",
    "In [12]: !cd ..\n",
    "\n",
    "In [13]: !pwd\n",
    "/home/jake/projects/myproject\n",
    "```\n",
    "The reason is that shell commands in the notebook are executed in a temporary subshell. If you'd like to change the working directory in a more enduring way, you can use the %cd magic command:\n",
    "    \n",
    "```python\n",
    "In [14]: %cd ..\n",
    "/home/jake/projects\n",
    "In fact, by default you can even use this without the % sign:\n",
    "\n",
    "In [15]: cd myproject\n",
    "/home/jake/projects/myproject\n",
    "```\n",
    "This is known as an automagic function, and this behavior can be toggled with the %automagic magic function.\n",
    "\n",
    "Besides %cd, other available shell-like magic functions are %cat, %cp, %env, %ls, %man, %mkdir, %more, %mv, %pwd, %rm, and %rmdir, any of which can be used without the % sign if automagic is on. This makes it so that you can almost treat the IPython prompt as if it's a normal shell:\n",
    "```python\n",
    "In [16]: mkdir tmp\n",
    "\n",
    "In [17]: ls\n",
    "myproject.txt  tmp/\n",
    "\n",
    "In [18]: cp myproject.txt tmp/\n",
    "\n",
    "In [19]: ls tmp\n",
    "myproject.txt\n",
    "\n",
    "In [20]: rm -r tmp\n",
    "```"
   ]
  }
 ],
 "metadata": {
  "kernelspec": {
   "display_name": "Python 3 (ipykernel)",
   "language": "python",
   "name": "python3"
  },
  "language_info": {
   "codemirror_mode": {
    "name": "ipython",
    "version": 3
   },
   "file_extension": ".py",
   "mimetype": "text/x-python",
   "name": "python",
   "nbconvert_exporter": "python",
   "pygments_lexer": "ipython3",
   "version": "3.11.8"
  }
 },
 "nbformat": 4,
 "nbformat_minor": 5
}
