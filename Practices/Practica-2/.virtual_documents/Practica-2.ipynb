





import numpy as np # linear alg
import pandas as pd # data processing
import matplotlib.pyplot as plt #grafic generator
import seaborn as sns #Another grafic generator but with esteroids


df = pd.read_csv(r'tortilla_prices.csv')





#Visualización del tamaño del Dataframe
rows, columns = df.shape 
print("Renglones: ", rows , "\nColumnas: ", columns)


#Informacion de cada columna
df.info()


#Visualización general del dataframe
df.head()


#Visualización general de valores perdidos
plt.figure(figsize=(12, 8))
sns.heatmap(df.isnull(), cbar=False, cmap='viridis')
plt.title('Valores perdidos')
plt.show()





# Reemplazar los valores NaN en 'Price per kilogram' con el promedio del grupo (Year y State)
df['Price per kilogram'] = df.groupby(['Year', 'State'])['Price per kilogram'].transform(lambda x: x.fillna(x.mean()))


#Visualización de la limpieza
plt.figure(figsize=(12, 5))
sns.heatmap(df.isnull(), cbar=False, cmap='viridis')
plt.title('Valores perdidos')
plt.show()





def get_season_numeric(month):
    if month in [12, 1, 2]:
        return 1  # Invierno
    elif month in [3, 4, 5]:
        return 2  # Primavera
    elif month in [6, 7, 8]:
        return 3  # Verano
    elif month in [9, 10, 11]:
        return 4  # Otoño


df['Season'] = df['Month'].apply(get_season_numeric)


df.head()


df_grouped = df.groupby(['Season','Year']).agg({'Price per kilogram': 'mean'}).reset_index()

# Crear el gráfico de líneas usando seaborn
plt.figure(figsize=(10, 6))
sns.lineplot(x='Season', y='Price per kilogram', hue='Year', data=df_grouped, marker='o')

# Personalizar el gráfico
plt.title('Precio de la Tortilla a lo largo de las Estaciones por Año')
plt.xlabel('Estación (1=Invierno, 2=Primavera, 3=Verano, 4=Otoño)')
plt.ylabel('Precio por Kilogramo (Promedio)')
plt.xticks([1, 2, 3, 4], ['Invierno', 'Primavera', 'Verano', 'Otoño'])  # Etiquetas de estaciones
plt.legend(title='Año')

# Mostrar el gráfico
plt.show()


# Mean price time series (by year and store type)
tortilla_prices_byStoreType_Year = df.groupby(['Store type','Year'])['Price per kilogram'].mean().to_frame().reset_index()


# Plot mean price by store type and year
plt.figure(figsize=(10,6))
sns.set_style("whitegrid", {"grid.color": ".3", "grid.linestyle": ":"})
g = sns.lineplot(data = tortilla_prices_byStoreType_Year, x = 'Year',
                 y = 'Price per kilogram', hue = 'Store type', style = 'Store type',
                 markers=True)
g.set_xlim(2006.5, 2024.5)
g.set_ylim(0, 31)
g.set(title="Precio del kg de tortilla por tipo de tienda (2007 to 2024)", ylabel="Precio por kilogramo ($MXN)", xlabel="Año")
sns.despine()


correlacion = df['Season'].corr(df['Price per kilogram'])


correlacion = df['Year'].corr(df['Price per kilogram'])


print(correlacion)


# Calcular el promedio del precio por temporada para cada estado
df_avg_price = df.groupby(['State', 'Season']).agg({'Price per kilogram': 'mean'}).reset_index()

# Calcular la variación (rango) del precio entre temporadas para cada estado
price_variation = df_avg_price.groupby('State').agg({'Price per kilogram': ['max', 'min']})
price_variation['Price Variation'] = price_variation[('Price per kilogram', 'max')] - price_variation[('Price per kilogram', 'min')]
price_variation = price_variation.reset_index()

# Ordenar los estados por mayor variación de precios
price_variation = price_variation.sort_values(by='Price Variation', ascending=False)

# Mostrar los resultados
print(price_variation[['State', 'Price Variation']])


correlacion = df['Month'].corr(df['Price per kilogram'])


print(correlacion)
