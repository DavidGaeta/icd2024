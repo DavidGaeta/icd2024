


print("Hello world. Select option: Code")


!pip install --upgrade pip


!pip install pandas


import pandas as pd


df = pd.read_csv(r'weather.numeric.csv')


print(df)


df.hist()


df['Outlook'].value_counts().plot(kind="pie")


df['Wind'].value_counts().plot(kind="pie")


df['Play'].value_counts().plot(kind="pie")


type(df)


type(df)


x = 50
print(x)
type(x)


x = 60.5
print(x)
type(x)


x = 3j
print(x)
type(x)


x = ["intro", "data", "science"]
print(x)
type(x)


x = ("intro", "data", "science")
print(x)
type(x)


x = range(10)
print(x)
type(x)


x = {"name": "hussein", "age": 24}
print(x)
type(x)


x = {"intro", "data", "science"}
print(x)
type(x)


x = frozenset({"intro", "data", "science"})
print(x)
type(x)


x = True
print(x)
type(x)


x = b"intro"
print(x)
type(x)


x = bytearray(4)
print(x)
type(x)


x = memoryview(bytes(6))
print(x)
type(x)


x = None
print(x)
type(x)


# Python program to
# demonstrate numeric value
 
a = 5
print("Type of a: ", type(a))
 
b = 5.0
print("\nType of b: ", type(b))
 
c = 2 + 4j
print("\nType of c: ", type(c))


# Python Program for
# Creation of String
 
# Creating a String
# with single Quotes
String1 = 'Welcome to Intro to Data Science'
print("String with the use of Single Quotes: ")
print(String1)
 
# Creating a String
# with double Quotes
String1 = "I'm Hussein"
print("\nString with the use of Double Quotes: ")
print(String1)
print(type(String1))
 
# Creating a String
# with triple Quotes
String1 = '''I'm a Hussein and I teach Intro to "Data Science"'''
print("\nString with the use of Triple Quotes: ")
print(String1)
print(type(String1))
 
# Creating String with triple
# Quotes allows multiple lines
String1 = '''Intro
            Data
            Science'''
print("\nCreating a multiline String: ")
print(String1)


# Python Program to Access
# characters of String
 
String1 = "IntroDataScience"
print("Initial String: ")
print(String1)
 
# Printing First character
print("\nFirst character of String is: ")
print(String1[0])
 
# Printing Last character
print("\nLast character of String is: ")
print(String1[-1])


# Creating a List
List = []
print("Initial blank List: ")
print(List)
 
# Creating a List with
# the use of a String
List = ['IntroDataScience']
print("\nList with the use of String: ")
print(List)
 
# Creating a List with
# the use of multiple values
List = ["Intro", "Data", "Science"]
print("\nList containing multiple values: ")
print(List[0])
print(List[2])
 
# Creating a Multi-Dimensional List
# (By Nesting a list inside a List)
List = [['Intro', 'Data'], ['Science']]
print("\nMulti-Dimensional List: ")
print(List)


# Python program to demonstrate
# accessing of element from list
 
# Creating a List with
# the use of multiple values
List = ["Intro", "Data", "Science"]
 
# accessing a element from the
# list using index number
print("Accessing element from the list")
print(List[0])
print(List[2])
 
# accessing a element using
# negative indexing
print("Accessing element using negative indexing")
 
# print the last element of list
print(List[-1])
 
# print the third last element of list
print(List[-3])


# Creating an empty tuple
Tuple1 = ()
print("Initial empty Tuple: ")
print(Tuple1)
 
# Creating a Tuple with
# the use of Strings
Tuple1 = ('Intro', 'Data')
print("\nTuple with the use of String: ")
print(Tuple1)
 
# Creating a Tuple with
# the use of list
list1 = [1, 2, 4, 5, 6]
print("\nTuple using List: ")
print(tuple(list1))
 
# Creating a Tuple with the
# use of built-in function
Tuple1 = tuple('Science')
print("\nTuple with the use of function: ")
print(Tuple1)
 
# Creating a Tuple
# with nested tuples
Tuple1 = (0, 1, 2, 3)
Tuple2 = ('python', 'hussein')
Tuple3 = (Tuple1, Tuple2)
print("\nTuple with nested tuples: ")
print(Tuple3)


# Python program to
# demonstrate accessing tuple
 
tuple1 = tuple([1, 2, 3, 4, 5])
 
# Accessing element using indexing
print("First element of tuple")
print(tuple1[0])
 
# Accessing element from last
# negative indexing
print("\nLast element of tuple")
print(tuple1[-1])
 
print("\nThird last element of tuple")
print(tuple1[-3])


# Python program to
# demonstrate boolean type
 
print(type(True))
print(type(False))


# Python program to demonstrate
# Creation of Set in Python
 
# Creating a Set
set1 = set()
print("Initial blank Set: ")
print(set1)
 
# Creating a Set with
# the use of a String
set1 = set("IntroDataScience")
print("\nSet with the use of String: ")
print(set1)
 
# Creating a Set with
# the use of a List
set1 = set(["Intro", "Data", "Science"])
print("\nSet with the use of List: ")
print(set1)
 
# Creating a Set with
# a mixed type of values
# (Having numbers and strings)
set1 = set([1, 2, 'Intro', 4, 'Data', 6, 'Science'])
print("\nSet with the use of Mixed Values")
print(set1)


# Python program to demonstrate
# Accessing of elements in a set
 
# Creating a set
set1 = set(["Intro", "Data", "Science"])
print("\nInitial set")
print(set1)
 
# Accessing element using
# for loop
print("\nElements of set: ")
for i in set1:
    print(i, end=" ")
 
# Checking the element
# using in keyword
print("Science" in set1)


# Creating an empty Dictionary
Dict = {}
print("Empty Dictionary: ")
print(Dict)
 
# Creating a Dictionary
# with Integer Keys
Dict = {1: 'Intro', 2: 'Data', 3: 'Science'}
print("\nDictionary with the use of Integer Keys: ")
print(Dict)
 
# Creating a Dictionary
# with Mixed keys
Dict = {'Name': 'Hussein', 1: [1, 2, 3, 4]}
print("\nDictionary with the use of Mixed Keys: ")
print(Dict)
 
# Creating a Dictionary
# with dict() method
Dict = dict({1: 'Hussein', 2: 'For', 3: 'Lopez'})
print("\nDictionary with the use of dict(): ")
print(Dict)
 
# Creating a Dictionary
# with each item as a Pair
Dict = dict([(1, 'Data'), (2, 'Science')])
print("\nDictionary with each item as a pair: ")
print(Dict)


# Python program to demonstrate
# accessing a element from a Dictionary
 
# Creating a Dictionary
Dict = {1: 'Intro', 'hussein': 'Data', 3: 'Science'}
 
# accessing a element using key
print("Accessing a element using key:")
print(Dict['hussein'])
 
# accessing a element using get()
# method
print("Accessing a element using get:")
print(Dict.get(3))
