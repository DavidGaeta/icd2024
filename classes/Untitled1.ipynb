{
 "cells": [
  {
   "cell_type": "code",
   "execution_count": null,
   "id": "2b941b34-82bf-45ee-971d-f4e34d155a86",
   "metadata": {},
   "outputs": [],
   "source": [
    "import pandas as pd\n",
    "import re\n",
    "import spacy as spc\n",
    "import nltk\n",
    "from nltk.corpus import stopwords\n",
    "from nltk.tokenize import word_tokenize\n",
    "from sklearn.feature_extraction.text import CountVectorizer"
   ]
  },
  {
   "cell_type": "markdown",
   "id": "65186e96-add9-4f36-9d88-0af5a120ecd4",
   "metadata": {},
   "source": [
    "#### Instalar esto en caso de eror al usar tokenizador (nltk)\n",
    "```python\n",
    "nltk.download('punkt')\n",
    "nltk.download('punkt_tab')\n",
    "```"
   ]
  },
  {
   "cell_type": "code",
   "execution_count": 2,
   "id": "196a5792-9dd1-42b7-90b5-e7cc24ca9f90",
   "metadata": {},
   "outputs": [],
   "source": [
    "df = pd.read_csv(r'df_mini_HS.csv')"
   ]
  },
  {
   "cell_type": "code",
   "execution_count": 3,
   "id": "02ad9849-31be-4c01-ae39-cc34674f9c4b",
   "metadata": {},
   "outputs": [
    {
     "name": "stdout",
     "output_type": "stream",
     "text": [
      "    label                                               text\n",
      "0       1  ESAS COSAS Y OTRAS PUEDEN PASAR POR MANTENER A...\n",
      "1       1  28: te amodio, odio a la perra de tu amiga ☺️☺...\n",
      "2       1  @LaDivinaDiva Callate maldita perra. O seguro ...\n",
      "3       1  @MarysabelPuerto Mejor callate cara de puta o ...\n",
      "4       1  @xarita327 @TRIKYHUMOR @yonier2012 @casTa1326 ...\n",
      "5       1              @CocotePR @ashleyhonohan callate puta\n",
      "6       1  Y el inmigrante recibe ayuda del rico Estado l...\n",
      "7       1  De los moros no se puede esperar nada bueno, y...\n",
      "8       1  ¿Por que si a una mujer le pegan un tiro en la...\n",
      "9       1  Analicemos esto: ¿Si te pones unos shorts así,...\n",
      "10      0  \"See... Tal vez les recordo como Peron protegi...\n",
      "11      0  PIETRAPIERCE STORY: PURS SANGS ARABES STARS DE...\n",
      "12      0  ¿Qué dice este de frivolizar el acoso escolar?...\n",
      "13      0  #Suiza 🇨🇭 retira el permiso a 189 refugiados q...\n",
      "14      0  Hoy quiero denunciaaaaaaar A LA GENTE PUTO GUA...\n",
      "15      0  Redomicilie su sociedad offshore en Emiratos Á...\n",
      "16      0  @hermanntertsch Basta! Poned pie en pared a ta...\n",
      "17      0  SEMANA DE LA JUVENTUD. TORNEO FUTBOL7  / FUTBO...\n",
      "18      0  @lNeko_ @xTiko98 Callate y metete party de una...\n",
      "19      0  Cuántos inmigrantes creemos que hay, y cuántos...\n"
     ]
    }
   ],
   "source": [
    "print(df)"
   ]
  },
  {
   "cell_type": "code",
   "execution_count": null,
   "id": "739df576-ca5e-41d5-8f52-ffc359c59875",
   "metadata": {},
   "outputs": [],
   "source": [
    "df['text'] = df['text'].str.lower()\n",
    "df['text'] = df['text'].str.replace(r\"@\\S+\", \"\", regex=True)# Eliminar menciones a usuarios\n",
    "df['text'] = df['text'].str.replace(r\"http[s]?\\://\\S+\", \"\", regex=True)# Eliminar enlaces\n",
    "df['text'] = df['text'].str.replace(r\"#\\S+\", \"\", regex=True)# Eliminar hashtags\n",
    "df['text'] = df['text'].str.replace(r\"[0-9]\", \"\", regex=True)# Eliminar números\n",
    "df['text'] = df['text'].str.replace(r\"(\\(.*\\))|(\\[.*\\])\", \"\", regex=True)# Eliminar paréntesis y corchetes\n",
    "df['text'] = df['text'].str.replace(r\"\\n\", \"\", regex=True)# Eliminar caracteres de nueva línea\n",
    "df['text'] = df['text'].str.replace(r\"(http[s]?\\://\\S+)|([\\[\\(].*[\\)\\]])|([#@]\\S+)|\\n\", \"\", regex=True)# Eliminar varios patrones en una sola expresión regular (enlaces, paréntesis/corchetes, hashtags, menciones y nueva línea)\n",
    "df['text'] = df['text'].str.replace(r\"(\\.)|(,)\", \"\", regex=True)# Eliminar puntos y comas\n",
    "df['text'] = df['text'].str.replace(r\"[¡!]\", \"\", regex=True)# Eliminar signos de admiración\n",
    "df['text'] = df['text'].str.replace(r\"[¿?]\", \"\", regex=True) # Eliminar signos de exclamación"
   ]
  },
  {
   "cell_type": "code",
   "execution_count": null,
   "id": "f259c630-c42d-4527-9f75-4c32400eb847",
   "metadata": {},
   "outputs": [],
   "source": [
    "print(df[\"text\"])"
   ]
  },
  {
   "cell_type": "code",
   "execution_count": null,
   "id": "c9065f29-7cad-49e0-994e-557f4a57df23",
   "metadata": {},
   "outputs": [],
   "source": [
    "vectorizer = CountVectorizer()"
   ]
  },
  {
   "cell_type": "code",
   "execution_count": null,
   "id": "d2094b01-6c6b-43fe-aa22-116c8522a0ae",
   "metadata": {},
   "outputs": [],
   "source": [
    "df_v = vectorizado.fit_transform(df['text'])"
   ]
  },
  {
   "cell_type": "code",
   "execution_count": null,
   "id": "93b31eb2-0dc4-4773-80ee-6111d7d67b76",
   "metadata": {},
   "outputs": [],
   "source": [
    "df_vec = pd.DataFrame(df_v.toarray(), columns=vectorizado.get_feature_names_out())"
   ]
  },
  {
   "cell_type": "code",
   "execution_count": null,
   "id": "7fb8c53b-98b3-44c2-9445-4ac99da7c9db",
   "metadata": {},
   "outputs": [],
   "source": [
    "X_bow_df['label'] = df['label'].values"
   ]
  },
  {
   "cell_type": "code",
   "execution_count": null,
   "id": "52a5c386-2f2d-4a4b-95cd-70d54f570292",
   "metadata": {},
   "outputs": [],
   "source": []
  },
  {
   "cell_type": "code",
   "execution_count": null,
   "id": "1de71627-ff41-44da-826c-84e33f3c086b",
   "metadata": {},
   "outputs": [],
   "source": []
  }
 ],
 "metadata": {
  "kernelspec": {
   "display_name": "Python 3 (ipykernel)",
   "language": "python",
   "name": "python3"
  },
  "language_info": {
   "codemirror_mode": {
    "name": "ipython",
    "version": 3
   },
   "file_extension": ".py",
   "mimetype": "text/x-python",
   "name": "python",
   "nbconvert_exporter": "python",
   "pygments_lexer": "ipython3",
   "version": "3.11.8"
  }
 },
 "nbformat": 4,
 "nbformat_minor": 5
}
