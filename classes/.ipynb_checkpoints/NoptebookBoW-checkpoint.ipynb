{
 "cells": [
  {
   "cell_type": "markdown",
   "id": "e95a4277-dd6b-4c10-a9d5-0703b9a2c9b7",
   "metadata": {},
   "source": [
    "# <span style= \"color:#57a989\">Notebook BoW</span>\n",
    "**Materia:** Introducción a la Ciencia de Datos\n",
    "\n",
    "**Autor:** Eber David Gaytán Medina"
   ]
  },
  {
   "cell_type": "markdown",
   "id": "6266dca2-7214-4641-bb49-c1ef9070974d",
   "metadata": {},
   "source": [
    "#### Instalación e importación de paquetes"
   ]
  },
  {
   "cell_type": "code",
   "execution_count": null,
   "id": "bb67f54c-ae15-4007-b9e3-1de28cefded9",
   "metadata": {},
   "outputs": [],
   "source": [
    "#!pip install spacy\n",
    "#!pip install nltk\n",
    "#!pip install sklearn"
   ]
  },
  {
   "cell_type": "code",
   "execution_count": 1,
   "id": "fb59ad70-5c2b-4302-836c-c018a151b4c2",
   "metadata": {},
   "outputs": [],
   "source": [
    "import pandas as pd\n",
    "import re\n",
    "import spacy as spc\n",
    "import nltk\n",
    "from nltk.corpus import stopwords\n",
    "from nltk.tokenize import word_tokenize\n",
    "from sklearn.feature_extraction.text import CountVectorizer"
   ]
  },
  {
   "cell_type": "markdown",
   "id": "a90a821e-82d9-4c4d-aab9-36711f88957b",
   "metadata": {},
   "source": [
    "#### Instalar esto en caso de error al usar tokenizador (nltk)\n",
    "```python\n",
    "nltk.download('punkt')\n",
    "nltk.download('punkt_tab')\n",
    "```"
   ]
  },
  {
   "cell_type": "markdown",
   "id": "96ac3c79-534d-457a-ab6f-7cde27e846ac",
   "metadata": {},
   "source": [
    "#### Instalar esto en caso de error al usar stopwords (nltk)\n",
    "```python\n",
    "nltk.download('stopwords')\n",
    "```"
   ]
  },
  {
   "cell_type": "markdown",
   "id": "0e625a87-db6b-45dc-800a-88ef11d03f87",
   "metadata": {},
   "source": [
    "#### Leer archivo csv"
   ]
  },
  {
   "cell_type": "code",
   "execution_count": 2,
   "id": "20e14d90-9aab-47ee-9aab-5fdc25dd22a3",
   "metadata": {},
   "outputs": [],
   "source": [
    "df = pd.read_csv(r'df_mini_HS.csv')"
   ]
  },
  {
   "cell_type": "code",
   "execution_count": 3,
   "id": "62333817-b874-49d6-8717-508a157c7a48",
   "metadata": {},
   "outputs": [
    {
     "name": "stdout",
     "output_type": "stream",
     "text": [
      "    label                                               text\n",
      "0       1  ESAS COSAS Y OTRAS PUEDEN PASAR POR MANTENER A...\n",
      "1       1  28: te amodio, odio a la perra de tu amiga ☺️☺...\n",
      "2       1  @LaDivinaDiva Callate maldita perra. O seguro ...\n",
      "3       1  @MarysabelPuerto Mejor callate cara de puta o ...\n",
      "4       1  @xarita327 @TRIKYHUMOR @yonier2012 @casTa1326 ...\n",
      "5       1              @CocotePR @ashleyhonohan callate puta\n",
      "6       1  Y el inmigrante recibe ayuda del rico Estado l...\n",
      "7       1  De los moros no se puede esperar nada bueno, y...\n",
      "8       1  ¿Por que si a una mujer le pegan un tiro en la...\n",
      "9       1  Analicemos esto: ¿Si te pones unos shorts así,...\n",
      "10      0  \"See... Tal vez les recordo como Peron protegi...\n",
      "11      0  PIETRAPIERCE STORY: PURS SANGS ARABES STARS DE...\n",
      "12      0  ¿Qué dice este de frivolizar el acoso escolar?...\n",
      "13      0  #Suiza 🇨🇭 retira el permiso a 189 refugiados q...\n",
      "14      0  Hoy quiero denunciaaaaaaar A LA GENTE PUTO GUA...\n",
      "15      0  Redomicilie su sociedad offshore en Emiratos Á...\n",
      "16      0  @hermanntertsch Basta! Poned pie en pared a ta...\n",
      "17      0  SEMANA DE LA JUVENTUD. TORNEO FUTBOL7  / FUTBO...\n",
      "18      0  @lNeko_ @xTiko98 Callate y metete party de una...\n",
      "19      0  Cuántos inmigrantes creemos que hay, y cuántos...\n"
     ]
    }
   ],
   "source": [
    "print(df)"
   ]
  },
  {
   "cell_type": "markdown",
   "id": "db1e95e4-8757-467c-83da-5e0b49a727ba",
   "metadata": {},
   "source": [
    "#### Normalización de datos y limpieza"
   ]
  },
  {
   "cell_type": "code",
   "execution_count": 4,
   "id": "3ab41d1a-2ea3-4828-b63c-0618c5cadeb4",
   "metadata": {},
   "outputs": [],
   "source": [
    "df['text'] = df['text'].str.lower() #Cambiar todas las letras a minusculas\n",
    "df['text'] = df['text'].str.replace(r\"@\\S+\", \"\", regex=True)# Eliminar menciones a usuarios\n",
    "df['text'] = df['text'].str.replace(r\"http[s]?\\://\\S+\", \"\", regex=True)# Eliminar enlaces\n",
    "df['text'] = df['text'].str.replace(r\"#\\S+\", \"\", regex=True)# Eliminar hashtags\n",
    "df['text'] = df['text'].str.replace(r\"[0-9]\", \"\", regex=True)# Eliminar números\n",
    "df['text'] = df['text'].str.replace(r\"(\\(.*\\))|(\\[.*\\])\", \"\", regex=True)# Eliminar paréntesis y corchetes\n",
    "df['text'] = df['text'].str.replace(r\"\\n\", \"\", regex=True)# Eliminar caracteres de nueva línea\n",
    "df['text'] = df['text'].str.replace(r\"(http[s]?\\://\\S+)|([\\[\\(].*[\\)\\]])|([#@]\\S+)|\\n\", \"\", regex=True)# Eliminar varios patrones en una sola expresión regular (enlaces, paréntesis/corchetes, hashtags, menciones y nueva línea)\n",
    "df['text'] = df['text'].str.replace(r\"(\\.)|(,)\", \"\", regex=True)# Eliminar puntos y comas\n",
    "df['text'] = df['text'].str.replace(r\"[¡!]\", \"\", regex=True)# Eliminar signos de admiración\n",
    "df['text'] = df['text'].str.replace(r\"[¿?]\", \"\", regex=True) # Eliminar signos de exclamación\n"
   ]
  },
  {
   "cell_type": "code",
   "execution_count": 5,
   "id": "e9fed562-d613-48eb-9206-3df1bba557ab",
   "metadata": {
    "scrolled": true
   },
   "outputs": [
    {
     "name": "stdout",
     "output_type": "stream",
     "text": [
      "0     esas cosas y otras pueden pasar por mantener a...\n",
      "1     : te amodio odio a la perra de tu amiga ☺️☺️pe...\n",
      "2      callate maldita perra o seguro eres un pobre ...\n",
      "3      mejor callate cara de puta o reputa como tu m...\n",
      "4                                          cállate puta\n",
      "5                                          callate puta\n",
      "6     y el inmigrante recibe ayuda del rico estado l...\n",
      "7     de los moros no se puede esperar nada bueno y ...\n",
      "8     por que si a una mujer le pegan un tiro en la ...\n",
      "9     analicemos esto: si te pones unos shorts así e...\n",
      "10    \"see tal vez les recordo como peron protegio a...\n",
      "11    pietrapierce story: purs sangs arabes stars de...\n",
      "12    qué dice este de frivolizar el acoso escolar p...\n",
      "13     🇨🇭 retira el permiso a  refugiados que fueron...\n",
      "14    hoy quiero denunciaaaaaaar a la gente puto gua...\n",
      "15    redomicilie su sociedad offshore en emiratos á...\n",
      "16     basta poned pie en pared a tanta provocación ...\n",
      "17    semana de la juventud torneo futbol  / futbol ...\n",
      "18               callate y metete party de una puta vez\n",
      "19    cuántos inmigrantes creemos que hay y cuántos ...\n",
      "Name: text, dtype: object\n"
     ]
    }
   ],
   "source": [
    "print(df[\"text\"])"
   ]
  },
  {
   "cell_type": "markdown",
   "id": "3424259c-5d80-40dd-a201-87f628430fe9",
   "metadata": {},
   "source": [
    "#### Separacion de texto por clase. \n",
    "El texto de clase \"1\" y \"0\" se convierten y se combinan en un solo string"
   ]
  },
  {
   "cell_type": "code",
   "execution_count": 6,
   "id": "449acb8f-1998-4088-8b79-51f5c118a9b5",
   "metadata": {},
   "outputs": [],
   "source": [
    "texts_label_1 = df[df[\"label\"] == 1][\"text\"].astype(str).tolist()\n",
    "combined_text_label_1 = ' '.join(texts_label_1)"
   ]
  },
  {
   "cell_type": "code",
   "execution_count": 7,
   "id": "1e36cf5d-b6c7-41a9-877d-c7e7e0bf1e96",
   "metadata": {},
   "outputs": [],
   "source": [
    "texts_label_0 = df[df[\"label\"] == 0][\"text\"].astype(str).tolist()\n",
    "combined_text_label_0 = ' '.join(texts_label_0)"
   ]
  },
  {
   "cell_type": "markdown",
   "id": "7f8a66c5-9393-447a-855a-daba98bdb856",
   "metadata": {},
   "source": [
    "Se pasa un filtro mas para quitar emojis y otros simbolos a cada string. Más adelante se filtrara mediante otro modelo."
   ]
  },
  {
   "cell_type": "code",
   "execution_count": 8,
   "id": "402f27ea-c7d0-4ec2-b48b-3dc9ad7300f2",
   "metadata": {},
   "outputs": [],
   "source": [
    "combined_text_label_0 = re.sub(r'[\\U0001F600-\\U0001F64F\\u263a-\\U0001f645\\:\\*\\-\\\"\\/]', '', combined_text_label_0)"
   ]
  },
  {
   "cell_type": "code",
   "execution_count": 9,
   "id": "19cf77cd-875c-4399-9ad0-0dfbe589a4e0",
   "metadata": {},
   "outputs": [],
   "source": [
    "combined_text_label_1 = re.sub(r'[\\U0001F600-\\U0001F64F\\u263a-\\U0001f645\\:\\*\\-\\\"\\/]', '', combined_text_label_1)"
   ]
  },
  {
   "cell_type": "code",
   "execution_count": 10,
   "id": "0ac9ff4e-1eef-4d46-b069-f3b591ff875f",
   "metadata": {},
   "outputs": [
    {
     "name": "stdout",
     "output_type": "stream",
     "text": [
      "see tal vez les recordo como peron protegio a eichmann y cientos de nazis o les conto a los arabes el chiste del araba que se lo garcho un camello  pietrapierce story purs sangs arabes stars des festivites a agar el m  qué dice este de frivolizar el acoso escolar por favor queréis dejar de decir semejantes tonterías    retira el permiso a  refugiados que fueron de vacaciones a sus países    vía  hoy quiero denunciaaaaaaar a la gente puto guarra que huele a sudor y chorizo y se sube al bus dejando a tol mundo ko shame on you 🤬 redomicilie su sociedad offshore en emiratos árabes unidos   basta poned pie en pared a tanta provocación y cortad la humillación de estos cuatro hijos de perra semana de la juventud torneo futbol   futbol  categoria cadete equipos inscritos los yogurines la elite rayo donbenitense los negratas fuenlabrada minato de kiev los josewifakers voolka    callate y metete party de una puta vez cuántos inmigrantes creemos que hay y cuántos hay en realidad ciudadanos de un lugar llamado mundo  esas cosas y otras pueden pasar por mantener a la inmigracion ilegal en españa y no expulsarlos no  la agresión de los manteros a un turista pone a colau en un aprieto  vía   te amodio odio a la perra de tu amiga pero tú eres mi vida tijerazo  callate maldita perra o seguro eres un pobre marico detras de un user femenino chavista colaborador  mejor callate cara de puta o reputa como tu madre se nota que te hacen falta estos         cállate puta   callate puta y el inmigrante recibe ayuda del rico estado ladrón que se olvida de los nacionales mientras nos viola y mata pintada con una verdad a medias  de los moros no se puede esperar nada bueno y esto te lo dicen los propios árabes que también han luchado contra ellos       por que si a una mujer le pegan un tiro en la cabeza dura tres dias en morirse porque a los tres dias la bala encuentra el cerebro analicemos esto si te pones unos shorts así en la calle qué esperas que te digan acoso o provocación \n"
     ]
    }
   ],
   "source": [
    "print(combined_text_label_0,combined_text_label_1)"
   ]
  },
  {
   "cell_type": "markdown",
   "id": "83a08958-31f6-4345-a568-2e750b81aa62",
   "metadata": {},
   "source": [
    "#### Tokeniza cada clase"
   ]
  },
  {
   "cell_type": "code",
   "execution_count": 11,
   "id": "d317d2f1-7c8c-411f-b3f6-72ca2b08ebc8",
   "metadata": {},
   "outputs": [
    {
     "name": "stdout",
     "output_type": "stream",
     "text": [
      "['see', 'tal', 'vez', 'les', 'recordo', 'como', 'peron', 'protegio', 'a', 'eichmann', 'y', 'cientos', 'de', 'nazis', 'o', 'les', 'conto', 'a', 'los', 'arabes', 'el', 'chiste', 'del', 'araba', 'que', 'se', 'lo', 'garcho', 'un', 'camello', 'pietrapierce', 'story', 'purs', 'sangs', 'arabes', 'stars', 'des', 'festivites', 'a', 'agar', 'el', 'm', 'qué', 'dice', 'este', 'de', 'frivolizar', 'el', 'acoso', 'escolar', 'por', 'favor', 'queréis', 'dejar', 'de', 'decir', 'semejantes', 'tonterías', 'retira', 'el', 'permiso', 'a', 'refugiados', 'que', 'fueron', 'de', 'vacaciones', 'a', 'sus', 'países', 'vía', 'hoy', 'quiero', 'denunciaaaaaaar', 'a', 'la', 'gente', 'puto', 'guarra', 'que', 'huele', 'a', 'sudor', 'y', 'chorizo', 'y', 'se', 'sube', 'al', 'bus', 'dejando', 'a', 'tol', 'mundo', 'ko', 'shame', 'on', 'you', '🤬', 'redomicilie', 'su', 'sociedad', 'offshore', 'en', 'emiratos', 'árabes', 'unidos', 'basta', 'poned', 'pie', 'en', 'pared', 'a', 'tanta', 'provocación', 'y', 'cortad', 'la', 'humillación', 'de', 'estos', 'cuatro', 'hijos', 'de', 'perra', 'semana', 'de', 'la', 'juventud', 'torneo', 'futbol', 'futbol', 'categoria', 'cadete', 'equipos', 'inscritos', 'los', 'yogurines', 'la', 'elite', 'rayo', 'donbenitense', 'los', 'negratas', 'fuenlabrada', 'minato', 'de', 'kiev', 'los', 'josewifakers', 'voolka', 'callate', 'y', 'metete', 'party', 'de', 'una', 'puta', 'vez', 'cuántos', 'inmigrantes', 'creemos', 'que', 'hay', 'y', 'cuántos', 'hay', 'en', 'realidad', 'ciudadanos', 'de', 'un', 'lugar', 'llamado', 'mundo']\n"
     ]
    }
   ],
   "source": [
    "tokens0 = word_tokenize(combined_text_label_0)\n",
    "print(tokens0)"
   ]
  },
  {
   "cell_type": "code",
   "execution_count": 12,
   "id": "b03f9666-15bb-4b3a-b094-a704999e91ea",
   "metadata": {},
   "outputs": [
    {
     "name": "stdout",
     "output_type": "stream",
     "text": [
      "['esas', 'cosas', 'y', 'otras', 'pueden', 'pasar', 'por', 'mantener', 'a', 'la', 'inmigracion', 'ilegal', 'en', 'españa', 'y', 'no', 'expulsarlos', 'no', 'la', 'agresión', 'de', 'los', 'manteros', 'a', 'un', 'turista', 'pone', 'a', 'colau', 'en', 'un', 'aprieto', 'vía', 'te', 'amodio', 'odio', 'a', 'la', 'perra', 'de', 'tu', 'amiga', 'pero', 'tú', 'eres', 'mi', 'vida', 'tijerazo', 'callate', 'maldita', 'perra', 'o', 'seguro', 'eres', 'un', 'pobre', 'marico', 'detras', 'de', 'un', 'user', 'femenino', 'chavista', 'colaborador', 'mejor', 'callate', 'cara', 'de', 'puta', 'o', 'reputa', 'como', 'tu', 'madre', 'se', 'nota', 'que', 'te', 'hacen', 'falta', 'estos', 'cállate', 'puta', 'callate', 'puta', 'y', 'el', 'inmigrante', 'recibe', 'ayuda', 'del', 'rico', 'estado', 'ladrón', 'que', 'se', 'olvida', 'de', 'los', 'nacionales', 'mientras', 'nos', 'viola', 'y', 'mata', 'pintada', 'con', 'una', 'verdad', 'a', 'medias', 'de', 'los', 'moros', 'no', 'se', 'puede', 'esperar', 'nada', 'bueno', 'y', 'esto', 'te', 'lo', 'dicen', 'los', 'propios', 'árabes', 'que', 'también', 'han', 'luchado', 'contra', 'ellos', 'por', 'que', 'si', 'a', 'una', 'mujer', 'le', 'pegan', 'un', 'tiro', 'en', 'la', 'cabeza', 'dura', 'tres', 'dias', 'en', 'morirse', 'porque', 'a', 'los', 'tres', 'dias', 'la', 'bala', 'encuentra', 'el', 'cerebro', 'analicemos', 'esto', 'si', 'te', 'pones', 'unos', 'shorts', 'así', 'en', 'la', 'calle', 'qué', 'esperas', 'que', 'te', 'digan', 'acoso', 'o', 'provocación']\n"
     ]
    }
   ],
   "source": [
    "tokens1 = word_tokenize(combined_text_label_1)\n",
    "print(tokens1)"
   ]
  },
  {
   "cell_type": "markdown",
   "id": "18d9f5aa-b0c6-4dd7-91df-80b0852ef533",
   "metadata": {},
   "source": [
    "#### Stopwords"
   ]
  },
  {
   "cell_type": "code",
   "execution_count": 13,
   "id": "79704e79-25d5-48b1-9c2c-5b71fb254734",
   "metadata": {},
   "outputs": [
    {
     "name": "stdout",
     "output_type": "stream",
     "text": [
      "['see', 'tal', 'vez', 'recordo', 'peron', 'protegio', 'eichmann', 'cientos', 'nazis', 'conto', 'arabes', 'chiste', 'araba', 'garcho', 'camello', 'pietrapierce', 'story', 'purs', 'sangs', 'arabes', 'stars', 'des', 'festivites', 'agar', 'm', 'dice', 'frivolizar', 'acoso', 'escolar', 'favor', 'queréis', 'dejar', 'decir', 'semejantes', 'tonterías', 'retira', 'permiso', 'refugiados', 'vacaciones', 'países', 'vía', 'hoy', 'quiero', 'denunciaaaaaaar', 'gente', 'puto', 'guarra', 'huele', 'sudor', 'chorizo', 'sube', 'bus', 'dejando', 'tol', 'mundo', 'ko', 'shame', 'on', 'you', '🤬', 'redomicilie', 'sociedad', 'offshore', 'emiratos', 'árabes', 'unidos', 'basta', 'poned', 'pie', 'pared', 'tanta', 'provocación', 'cortad', 'humillación', 'cuatro', 'hijos', 'perra', 'semana', 'juventud', 'torneo', 'futbol', 'futbol', 'categoria', 'cadete', 'equipos', 'inscritos', 'yogurines', 'elite', 'rayo', 'donbenitense', 'negratas', 'fuenlabrada', 'minato', 'kiev', 'josewifakers', 'voolka', 'callate', 'metete', 'party', 'puta', 'vez', 'cuántos', 'inmigrantes', 'creemos', 'cuántos', 'realidad', 'ciudadanos', 'lugar', 'llamado', 'mundo']\n"
     ]
    }
   ],
   "source": [
    "spanish_stopwords = stopwords.words('spanish')\n",
    "palabras_filtradas0 = [palabra for palabra in tokens0 if palabra not in spanish_stopwords]\n",
    "print(palabras_filtradas0)"
   ]
  },
  {
   "cell_type": "code",
   "execution_count": 14,
   "id": "07fd16c1-8f90-40bc-8231-5e2a8f2b3685",
   "metadata": {},
   "outputs": [
    {
     "name": "stdout",
     "output_type": "stream",
     "text": [
      "['cosas', 'pueden', 'pasar', 'mantener', 'inmigracion', 'ilegal', 'españa', 'expulsarlos', 'agresión', 'manteros', 'turista', 'pone', 'colau', 'aprieto', 'vía', 'amodio', 'odio', 'perra', 'amiga', 'vida', 'tijerazo', 'callate', 'maldita', 'perra', 'seguro', 'pobre', 'marico', 'detras', 'user', 'femenino', 'chavista', 'colaborador', 'mejor', 'callate', 'cara', 'puta', 'reputa', 'madre', 'nota', 'hacen', 'falta', 'cállate', 'puta', 'callate', 'puta', 'inmigrante', 'recibe', 'ayuda', 'rico', 'ladrón', 'olvida', 'nacionales', 'mientras', 'viola', 'mata', 'pintada', 'verdad', 'medias', 'moros', 'puede', 'esperar', 'bueno', 'dicen', 'propios', 'árabes', 'luchado', 'si', 'mujer', 'pegan', 'tiro', 'cabeza', 'dura', 'tres', 'dias', 'morirse', 'tres', 'dias', 'bala', 'encuentra', 'cerebro', 'analicemos', 'si', 'pones', 'shorts', 'así', 'calle', 'esperas', 'digan', 'acoso', 'provocación']\n"
     ]
    }
   ],
   "source": [
    "palabras_filtradas1 = [palabra for palabra in tokens1 if palabra not in spanish_stopwords]\n",
    "print(palabras_filtradas1)"
   ]
  },
  {
   "cell_type": "markdown",
   "id": "e8d07107-3d77-4dde-94eb-e7852db790e2",
   "metadata": {},
   "source": [
    "#### Uso del modelo es_core_news_sm\n",
    "Descargar nel modelo mediante el siguiente comando:\n",
    "```bash\n",
    "!python3 -m spacy download es_core_news_sm\n",
    "```"
   ]
  },
  {
   "cell_type": "code",
   "execution_count": 15,
   "id": "5e89b8b7-fb6f-4a34-8d93-795204561644",
   "metadata": {},
   "outputs": [
    {
     "name": "stdout",
     "output_type": "stream",
     "text": [
      "see tal vez recordo peron protegio eichmann ciento nazi conto arab chiste arar garcho camello pietrapierce story purs sang arab stars des festivit agar m decir frivolizar acoso escolar favor queréis dejar decir semejante tontería retirar permiso refugiado vacación país vía hoy quiero denunciaaaaaaar gente puto guarra oler sudor chorizo subir bus dejar tol mundo ko shame on you 🤬 redomicilie sociedad offshore emirato árabe unido bastar poned pie pared tanto provocación cortad humillación cuatro hijo perra semana juventud torneo futbol futbol categoria cadete equipo inscrito yogurín elite rayo donbenitensar negrata fuenlabrado minato kiev josewifakers voolka callate metete party puta vez cuánto inmigrante creer cuánto realidad ciudadano lugar llamado mundo\n"
     ]
    }
   ],
   "source": [
    "nlp = spc.load(\"es_core_news_sm\")\n",
    "lema = nlp(\" \".join(palabras_filtradas0))\n",
    "oracion_lematizada0 = \" \".join([token.lemma_ for token in lema])\n",
    "print(oracion_lematizada0)"
   ]
  },
  {
   "cell_type": "code",
   "execution_count": 16,
   "id": "98e73808-7bc3-4920-9d1b-b321c15c8a08",
   "metadata": {},
   "outputs": [
    {
     "name": "stdout",
     "output_type": "stream",
     "text": [
      "cosa poder pasar mantener inmigracion ilegal españa expulsar él agresión mantero turista poner colau aprieto vía amodio odio perra amigo vida tijerazo callate maldita perra seguro pobre marico detras user femenino chavista colaborador mejor callate cara puta reputa madre nota hacer falta cállate puto callate puta inmigrante recibir ayuda rico ladrón olvidar nacional mientras viola mata pintado verdad medio moro poder esperar bueno decir propio árabe luchado si mujer peguir tiro cabeza durar tres dia morir él tres dia bala encontrar cerebro analicer si pón shorts así calle esperas decir acoso provocación\n"
     ]
    }
   ],
   "source": [
    "nlp = spc.load(\"es_core_news_sm\")\n",
    "lema = nlp(\" \".join(palabras_filtradas1))\n",
    "oracion_lematizada1 = \" \".join([token.lemma_ for token in lema])\n",
    "print(oracion_lematizada1)"
   ]
  },
  {
   "cell_type": "markdown",
   "id": "0896c865-cf56-4dff-b8ec-8439fca93408",
   "metadata": {},
   "source": [
    "#### Vectorizacion de las lineas de texto"
   ]
  },
  {
   "cell_type": "code",
   "execution_count": 17,
   "id": "608acdd5-0c1a-46a1-b9c4-3943d1257e73",
   "metadata": {},
   "outputs": [],
   "source": [
    "vectorizador0 = CountVectorizer()\n",
    "vectores0 = vectorizador0.fit_transform([oracion_lematizada0])\n",
    "vocabulario0 = vectorizador0.get_feature_names_out()"
   ]
  },
  {
   "cell_type": "code",
   "execution_count": 18,
   "id": "32ef4263-7dcc-4b06-8e4b-b4525d46b6e2",
   "metadata": {},
   "outputs": [],
   "source": [
    "vectorizador1 = CountVectorizer()\n",
    "vectores1 = vectorizador1.fit_transform([oracion_lematizada1])\n",
    "vocabulario1 = vectorizador1.get_feature_names_out()"
   ]
  },
  {
   "cell_type": "markdown",
   "id": "88480e83-fea4-4afc-a6fb-12a0b7ab2c47",
   "metadata": {},
   "source": [
    "#### Imprimir vector BoW por clase"
   ]
  },
  {
   "cell_type": "code",
   "execution_count": 19,
   "id": "224412c9-5197-44b7-a504-30adfb81b5d3",
   "metadata": {},
   "outputs": [
    {
     "name": "stdout",
     "output_type": "stream",
     "text": [
      "Oración lematizada: cosa poder pasar mantener inmigracion ilegal españa expulsar él agresión mantero turista poner colau aprieto vía amodio odio perra amigo vida tijerazo callate maldita perra seguro pobre marico detras user femenino chavista colaborador mejor callate cara puta reputa madre nota hacer falta cállate puto callate puta inmigrante recibir ayuda rico ladrón olvidar nacional mientras viola mata pintado verdad medio moro poder esperar bueno decir propio árabe luchado si mujer peguir tiro cabeza durar tres dia morir él tres dia bala encontrar cerebro analicer si pón shorts así calle esperas decir acoso provocación\n",
      "Vectores Bag of Words: [[1 1 1 1 1 1 1 1 1 1 1 3 1 1 1 1 1 1 1 1 2 1 2 1 1 1 1 1 1 1 1 1 1 1 1 1\n",
      "  1 1 1 1 1 1 1 1 1 1 1 1 1 1 1 1 1 1 1 2 1 1 2 1 1 1 2 1 1 1 1 1 1 1 2 1\n",
      "  1 2 1 1 1 1 1 1 1 2]]\n",
      "Vocabulario: ['acoso' 'agresión' 'amigo' 'amodio' 'analicer' 'aprieto' 'así' 'ayuda'\n",
      " 'bala' 'bueno' 'cabeza' 'callate' 'calle' 'cara' 'cerebro' 'chavista'\n",
      " 'colaborador' 'colau' 'cosa' 'cállate' 'decir' 'detras' 'dia' 'durar'\n",
      " 'encontrar' 'españa' 'esperar' 'esperas' 'expulsar' 'falta' 'femenino'\n",
      " 'hacer' 'ilegal' 'inmigracion' 'inmigrante' 'ladrón' 'luchado' 'madre'\n",
      " 'maldita' 'mantener' 'mantero' 'marico' 'mata' 'medio' 'mejor' 'mientras'\n",
      " 'morir' 'moro' 'mujer' 'nacional' 'nota' 'odio' 'olvidar' 'pasar'\n",
      " 'peguir' 'perra' 'pintado' 'pobre' 'poder' 'poner' 'propio' 'provocación'\n",
      " 'puta' 'puto' 'pón' 'recibir' 'reputa' 'rico' 'seguro' 'shorts' 'si'\n",
      " 'tijerazo' 'tiro' 'tres' 'turista' 'user' 'verdad' 'vida' 'viola' 'vía'\n",
      " 'árabe' 'él']\n"
     ]
    }
   ],
   "source": [
    "print(\"Oración lematizada:\", oracion_lematizada1)\n",
    "print(\"Vectores Bag of Words:\", vectores1.toarray())\n",
    "print(\"Vocabulario:\", vocabulario1)"
   ]
  },
  {
   "cell_type": "code",
   "execution_count": 20,
   "id": "b26fa5ae-e085-41ed-81f4-b6308f7ecf8e",
   "metadata": {},
   "outputs": [
    {
     "name": "stdout",
     "output_type": "stream",
     "text": [
      "Oración lematizada: see tal vez recordo peron protegio eichmann ciento nazi conto arab chiste arar garcho camello pietrapierce story purs sang arab stars des festivit agar m decir frivolizar acoso escolar favor queréis dejar decir semejante tontería retirar permiso refugiado vacación país vía hoy quiero denunciaaaaaaar gente puto guarra oler sudor chorizo subir bus dejar tol mundo ko shame on you 🤬 redomicilie sociedad offshore emirato árabe unido bastar poned pie pared tanto provocación cortad humillación cuatro hijo perra semana juventud torneo futbol futbol categoria cadete equipo inscrito yogurín elite rayo donbenitensar negrata fuenlabrado minato kiev josewifakers voolka callate metete party puta vez cuánto inmigrante creer cuánto realidad ciudadano lugar llamado mundo\n",
      "Vectores Bag of Words: [[1 1 2 1 1 1 1 1 1 1 1 1 1 1 1 1 1 1 2 2 2 1 1 1 1 1 1 1 1 1 1 1 1 2 1 1\n",
      "  1 1 1 1 1 1 1 1 1 1 1 1 1 1 2 1 1 1 1 1 1 1 1 1 1 1 1 1 1 1 1 1 1 1 1 1\n",
      "  1 1 1 1 1 1 1 1 1 1 1 1 1 1 1 1 1 1 1 1 1 1 1 2 1 1 1 1 1]]\n",
      "Vocabulario: ['acoso' 'agar' 'arab' 'arar' 'bastar' 'bus' 'cadete' 'callate' 'camello'\n",
      " 'categoria' 'chiste' 'chorizo' 'ciento' 'ciudadano' 'conto' 'cortad'\n",
      " 'creer' 'cuatro' 'cuánto' 'decir' 'dejar' 'denunciaaaaaaar' 'des'\n",
      " 'donbenitensar' 'eichmann' 'elite' 'emirato' 'equipo' 'escolar' 'favor'\n",
      " 'festivit' 'frivolizar' 'fuenlabrado' 'futbol' 'garcho' 'gente' 'guarra'\n",
      " 'hijo' 'hoy' 'humillación' 'inmigrante' 'inscrito' 'josewifakers'\n",
      " 'juventud' 'kiev' 'ko' 'llamado' 'lugar' 'metete' 'minato' 'mundo' 'nazi'\n",
      " 'negrata' 'offshore' 'oler' 'on' 'pared' 'party' 'país' 'permiso' 'peron'\n",
      " 'perra' 'pie' 'pietrapierce' 'poned' 'protegio' 'provocación' 'purs'\n",
      " 'puta' 'puto' 'queréis' 'quiero' 'rayo' 'realidad' 'recordo'\n",
      " 'redomicilie' 'refugiado' 'retirar' 'sang' 'see' 'semana' 'semejante'\n",
      " 'shame' 'sociedad' 'stars' 'story' 'subir' 'sudor' 'tal' 'tanto' 'tol'\n",
      " 'tontería' 'torneo' 'unido' 'vacación' 'vez' 'voolka' 'vía' 'yogurín'\n",
      " 'you' 'árabe']\n"
     ]
    }
   ],
   "source": [
    "print(\"Oración lematizada:\", oracion_lematizada0)\n",
    "print(\"Vectores Bag of Words:\", vectores0.toarray())\n",
    "print(\"Vocabulario:\", vocabulario0)"
   ]
  },
  {
   "cell_type": "markdown",
   "id": "70c3e0ee-518f-4e20-9d3a-22bce13b6292",
   "metadata": {},
   "source": [
    "**Se crea el dataframe agregando los vocabularios como encabezados**"
   ]
  },
  {
   "cell_type": "code",
   "execution_count": 21,
   "id": "c622a26b-944e-4942-95ca-5ec4938d8f97",
   "metadata": {},
   "outputs": [],
   "source": [
    "df0 = pd.DataFrame.sparse.from_spmatrix(vectores0,columns = vocabulario0)\n",
    "df1 = pd.DataFrame.sparse.from_spmatrix(vectores1,columns = vocabulario1)"
   ]
  },
  {
   "cell_type": "markdown",
   "id": "3cc7bf38-3433-41a3-85c2-9af327b0dcb1",
   "metadata": {},
   "source": [
    "\n",
    "\n",
    "**Se agrega al dataframe de cada clase con el valor de label del que fueron seleccionados**"
   ]
  },
  {
   "cell_type": "code",
   "execution_count": 22,
   "id": "81223e67-9207-41f6-9135-dfe8d6ad54fe",
   "metadata": {},
   "outputs": [],
   "source": [
    "df0['clase'] = 0\n",
    "df1['clase'] = 1"
   ]
  },
  {
   "cell_type": "markdown",
   "id": "eb0f866c-865c-48a3-b270-df86924cccb6",
   "metadata": {},
   "source": [
    "**Se combinan los dataframes df0 y df1 a partir de la columna clase**"
   ]
  },
  {
   "cell_type": "code",
   "execution_count": 23,
   "id": "de1a8a5a-e6a5-47c3-960b-271c7066679b",
   "metadata": {},
   "outputs": [
    {
     "name": "stdout",
     "output_type": "stream",
     "text": [
      "   acoso_x  agar  arab  arar  bastar  bus  cadete  callate_x  camello  \\\n",
      "0      1.0   1.0   2.0   1.0     1.0  1.0     1.0        1.0      1.0   \n",
      "1      NaN   NaN   NaN   NaN     NaN  NaN     NaN        NaN      NaN   \n",
      "\n",
      "   categoria  ...  tiro  tres  turista  user  verdad  vida  viola  vía_y  \\\n",
      "0        1.0  ...   NaN   NaN      NaN   NaN     NaN   NaN    NaN    NaN   \n",
      "1        NaN  ...   1.0   2.0      1.0   1.0     1.0   1.0    1.0    1.0   \n",
      "\n",
      "   árabe_y   él  \n",
      "0      NaN  NaN  \n",
      "1      1.0  2.0  \n",
      "\n",
      "[2 rows x 184 columns]\n"
     ]
    }
   ],
   "source": [
    "dff = pd.merge(df0,df1, on = 'clase', how = 'outer')\n",
    "print(dff)"
   ]
  },
  {
   "cell_type": "markdown",
   "id": "b8add37e-04fa-4ea2-9ab8-719d57c25042",
   "metadata": {},
   "source": [
    "**Ya que la opción \"outer\" de la linea anterior nos ayuda a combinar los dataframes sin perder datos, está nos sobrescribe datos inexistentes con \"NaN\"\n",
    "por lo tanto es mejor rellenarlos con ceros**"
   ]
  },
  {
   "cell_type": "code",
   "execution_count": 24,
   "id": "404e6ee3-a372-41ae-b107-7ae9aae14862",
   "metadata": {},
   "outputs": [],
   "source": [
    "dff = dff.fillna(0)"
   ]
  },
  {
   "cell_type": "markdown",
   "id": "254e5de3-b17b-4a75-a26b-477eca2a4ca0",
   "metadata": {},
   "source": [
    "**Mediante .pop quitamos la columna clase de dff y la guardamos en una variable auxiliar llamada dfff y mediante .insert la insertamos en la ultima posicion del dataframe** "
   ]
  },
  {
   "cell_type": "code",
   "execution_count": 27,
   "id": "3b993ca0-a962-487b-a2fd-f3cb776824d9",
   "metadata": {},
   "outputs": [],
   "source": [
    "dfff = dff.pop('clase')\n",
    "dff.insert(183, 'clase', dfff)"
   ]
  },
  {
   "cell_type": "markdown",
   "id": "fcae09e2-6c39-4668-8bcd-c8dbba1f61b7",
   "metadata": {},
   "source": [
    "#### Finalmente se imprime el BoW final"
   ]
  },
  {
   "cell_type": "code",
   "execution_count": 34,
   "id": "e99e6848-fbc9-498e-90a2-0d99a3c2333f",
   "metadata": {},
   "outputs": [
    {
     "data": {
      "text/html": [
       "<div>\n",
       "<style scoped>\n",
       "    .dataframe tbody tr th:only-of-type {\n",
       "        vertical-align: middle;\n",
       "    }\n",
       "\n",
       "    .dataframe tbody tr th {\n",
       "        vertical-align: top;\n",
       "    }\n",
       "\n",
       "    .dataframe thead th {\n",
       "        text-align: right;\n",
       "    }\n",
       "</style>\n",
       "<table border=\"1\" class=\"dataframe\">\n",
       "  <thead>\n",
       "    <tr style=\"text-align: right;\">\n",
       "      <th></th>\n",
       "      <th>acoso_x</th>\n",
       "      <th>agar</th>\n",
       "      <th>arab</th>\n",
       "      <th>arar</th>\n",
       "      <th>bastar</th>\n",
       "      <th>bus</th>\n",
       "      <th>cadete</th>\n",
       "      <th>callate_x</th>\n",
       "      <th>camello</th>\n",
       "      <th>categoria</th>\n",
       "      <th>...</th>\n",
       "      <th>tres</th>\n",
       "      <th>turista</th>\n",
       "      <th>user</th>\n",
       "      <th>verdad</th>\n",
       "      <th>vida</th>\n",
       "      <th>viola</th>\n",
       "      <th>vía_y</th>\n",
       "      <th>árabe_y</th>\n",
       "      <th>él</th>\n",
       "      <th>clase</th>\n",
       "    </tr>\n",
       "  </thead>\n",
       "  <tbody>\n",
       "    <tr>\n",
       "      <th>0</th>\n",
       "      <td>1.0</td>\n",
       "      <td>1.0</td>\n",
       "      <td>2.0</td>\n",
       "      <td>1.0</td>\n",
       "      <td>1.0</td>\n",
       "      <td>1.0</td>\n",
       "      <td>1.0</td>\n",
       "      <td>1.0</td>\n",
       "      <td>1.0</td>\n",
       "      <td>1.0</td>\n",
       "      <td>...</td>\n",
       "      <td>0.0</td>\n",
       "      <td>0.0</td>\n",
       "      <td>0.0</td>\n",
       "      <td>0.0</td>\n",
       "      <td>0.0</td>\n",
       "      <td>0.0</td>\n",
       "      <td>0.0</td>\n",
       "      <td>0.0</td>\n",
       "      <td>0.0</td>\n",
       "      <td>0</td>\n",
       "    </tr>\n",
       "    <tr>\n",
       "      <th>1</th>\n",
       "      <td>0.0</td>\n",
       "      <td>0.0</td>\n",
       "      <td>0.0</td>\n",
       "      <td>0.0</td>\n",
       "      <td>0.0</td>\n",
       "      <td>0.0</td>\n",
       "      <td>0.0</td>\n",
       "      <td>0.0</td>\n",
       "      <td>0.0</td>\n",
       "      <td>0.0</td>\n",
       "      <td>...</td>\n",
       "      <td>2.0</td>\n",
       "      <td>1.0</td>\n",
       "      <td>1.0</td>\n",
       "      <td>1.0</td>\n",
       "      <td>1.0</td>\n",
       "      <td>1.0</td>\n",
       "      <td>1.0</td>\n",
       "      <td>1.0</td>\n",
       "      <td>2.0</td>\n",
       "      <td>1</td>\n",
       "    </tr>\n",
       "  </tbody>\n",
       "</table>\n",
       "<p>2 rows × 184 columns</p>\n",
       "</div>"
      ],
      "text/plain": [
       "   acoso_x  agar  arab  arar  bastar  bus  cadete  callate_x  camello  \\\n",
       "0      1.0   1.0   2.0   1.0     1.0  1.0     1.0        1.0      1.0   \n",
       "1      0.0   0.0   0.0   0.0     0.0  0.0     0.0        0.0      0.0   \n",
       "\n",
       "   categoria  ...  tres  turista  user  verdad  vida  viola  vía_y  árabe_y  \\\n",
       "0        1.0  ...   0.0      0.0   0.0     0.0   0.0    0.0    0.0      0.0   \n",
       "1        0.0  ...   2.0      1.0   1.0     1.0   1.0    1.0    1.0      1.0   \n",
       "\n",
       "    él  clase  \n",
       "0  0.0      0  \n",
       "1  2.0      1  \n",
       "\n",
       "[2 rows x 184 columns]"
      ]
     },
     "execution_count": 34,
     "metadata": {},
     "output_type": "execute_result"
    }
   ],
   "source": [
    "dff.head()"
   ]
  }
 ],
 "metadata": {
  "kernelspec": {
   "display_name": "Python 3 (ipykernel)",
   "language": "python",
   "name": "python3"
  },
  "language_info": {
   "codemirror_mode": {
    "name": "ipython",
    "version": 3
   },
   "file_extension": ".py",
   "mimetype": "text/x-python",
   "name": "python",
   "nbconvert_exporter": "python",
   "pygments_lexer": "ipython3",
   "version": "3.11.8"
  }
 },
 "nbformat": 4,
 "nbformat_minor": 5
}
