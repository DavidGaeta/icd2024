{
 "cells": [
  {
   "cell_type": "markdown",
   "id": "2b758979-1e97-4e87-8a9c-dd8dcf076b55",
   "metadata": {},
   "source": [
    "# **Numpy**\n",
    "*Notas de uso para Numpy* \n",
    "\n",
    "**Eber Gaytán**"
   ]
  },
  {
   "cell_type": "code",
   "execution_count": 1,
   "id": "7ed347bf-3f2e-4e24-ac39-88e3a397ac16",
   "metadata": {},
   "outputs": [],
   "source": [
    "import numpy as np"
   ]
  },
  {
   "cell_type": "markdown",
   "id": "84cfb0ce-f08a-42b0-bba6-539a6a476fe9",
   "metadata": {},
   "source": [
    "## Creating Arrays"
   ]
  },
  {
   "cell_type": "code",
   "execution_count": 3,
   "id": "ced61e3f-8312-4720-bcd2-29318bc42361",
   "metadata": {},
   "outputs": [],
   "source": [
    "a = np.array([1,2,3])"
   ]
  },
  {
   "cell_type": "code",
   "execution_count": 4,
   "id": "5970770b-1302-4d20-9a29-3559297bb8d4",
   "metadata": {},
   "outputs": [],
   "source": [
    "b = np.array([(1.5,2,3),(4,5,6)], dtype = float)"
   ]
  },
  {
   "cell_type": "code",
   "execution_count": 5,
   "id": "d5ec491f-e280-4ccd-b86e-31cb256e05a5",
   "metadata": {},
   "outputs": [],
   "source": [
    "c = np.array([[(1.5,2,3), (4,5,6)],[(3,2,1),(4,5,6)]], dtype = float)"
   ]
  },
  {
   "cell_type": "markdown",
   "id": "c5fbd4a4-55bf-406e-94f0-fae601eb59a4",
   "metadata": {},
   "source": [
    "## Initial Placeholders"
   ]
  },
  {
   "cell_type": "code",
   "execution_count": 6,
   "id": "3fc42afe-c21d-48f0-9219-70b478efabb2",
   "metadata": {},
   "outputs": [
    {
     "data": {
      "text/plain": [
       "array([[0., 0., 0., 0.],\n",
       "       [0., 0., 0., 0.],\n",
       "       [0., 0., 0., 0.]])"
      ]
     },
     "execution_count": 6,
     "metadata": {},
     "output_type": "execute_result"
    }
   ],
   "source": [
    "np.zeros((3,4))"
   ]
  },
  {
   "cell_type": "code",
   "execution_count": 7,
   "id": "553421d2-8fe3-4903-9c92-815f818a3f6e",
   "metadata": {},
   "outputs": [
    {
     "data": {
      "text/plain": [
       "array([[[1, 1, 1, 1],\n",
       "        [1, 1, 1, 1],\n",
       "        [1, 1, 1, 1]],\n",
       "\n",
       "       [[1, 1, 1, 1],\n",
       "        [1, 1, 1, 1],\n",
       "        [1, 1, 1, 1]]], dtype=int16)"
      ]
     },
     "execution_count": 7,
     "metadata": {},
     "output_type": "execute_result"
    }
   ],
   "source": [
    "np.ones((2,3,4), dtype = np.int16)"
   ]
  },
  {
   "cell_type": "code",
   "execution_count": 9,
   "id": "ce890277-5813-4e96-b557-ca08770d8d3d",
   "metadata": {},
   "outputs": [],
   "source": [
    "d = np.arange(10,25,5) #crea un array de valorers espaciados"
   ]
  },
  {
   "cell_type": "code",
   "execution_count": 10,
   "id": "c421f002-077c-4c99-8735-860ca00647fb",
   "metadata": {},
   "outputs": [],
   "source": [
    "e = np.full((2,2),7) #Crea un array constante"
   ]
  },
  {
   "cell_type": "code",
   "execution_count": 12,
   "id": "d08d4eea-f6a3-420e-baec-89734472366c",
   "metadata": {},
   "outputs": [],
   "source": [
    "f = np.eye(2) #Crea una matriz identidad de 2x2"
   ]
  },
  {
   "cell_type": "code",
   "execution_count": null,
   "id": "410cc8f2-5fb3-4391-a6a7-13f71a04a96f",
   "metadata": {},
   "outputs": [],
   "source": [
    "np.random.random((2,2)) #Crea un array con valores random"
   ]
  },
  {
   "cell_type": "code",
   "execution_count": 14,
   "id": "5da8506a-9c94-48e5-8e05-877e9c1081f6",
   "metadata": {},
   "outputs": [
    {
     "data": {
      "text/plain": [
       "array([[1.5, 2. ],\n",
       "       [3. , 4. ],\n",
       "       [5. , 6. ]])"
      ]
     },
     "execution_count": 14,
     "metadata": {},
     "output_type": "execute_result"
    }
   ],
   "source": [
    " np.empty((3,2))#crea una matriz vacia"
   ]
  },
  {
   "cell_type": "markdown",
   "id": "5ca26c2a-60d0-4f13-bd33-50d33330a67c",
   "metadata": {},
   "source": [
    "# I/O\n",
    "### Saving & Loading On Disk"
   ]
  },
  {
   "cell_type": "code",
   "execution_count": 15,
   "id": "d611cb64-d357-4ed1-8075-50ef7f22dd79",
   "metadata": {},
   "outputs": [],
   "source": [
    "np.save('my_array', a)"
   ]
  },
  {
   "cell_type": "code",
   "execution_count": 16,
   "id": "c6cef902-b862-4a61-b06d-026b01e4827a",
   "metadata": {},
   "outputs": [],
   "source": [
    " np.savez('array.npz', a, b)"
   ]
  },
  {
   "cell_type": "code",
   "execution_count": 17,
   "id": "314ddaa4-5293-4726-9fce-812b0487ba6d",
   "metadata": {},
   "outputs": [
    {
     "data": {
      "text/plain": [
       "array([1, 2, 3])"
      ]
     },
     "execution_count": 17,
     "metadata": {},
     "output_type": "execute_result"
    }
   ],
   "source": [
    " np.load('my_array.npy')"
   ]
  },
  {
   "cell_type": "markdown",
   "id": "19a38c1c-aa84-4f1d-93e6-8c9f115d12af",
   "metadata": {},
   "source": [
    "### Saving & Loading Text Files"
   ]
  },
  {
   "cell_type": "code",
   "execution_count": 21,
   "id": "81dadedc-00cb-4e29-8bf0-ca628853f459",
   "metadata": {},
   "outputs": [
    {
     "ename": "FileNotFoundError",
     "evalue": "myfile.txt not found.",
     "output_type": "error",
     "traceback": [
      "\u001b[0;31m---------------------------------------------------------------------------\u001b[0m",
      "\u001b[0;31mFileNotFoundError\u001b[0m                         Traceback (most recent call last)",
      "Cell \u001b[0;32mIn[21], line 1\u001b[0m\n\u001b[0;32m----> 1\u001b[0m np\u001b[38;5;241m.\u001b[39mloadtxt(\u001b[38;5;124m\"\u001b[39m\u001b[38;5;124mmyfile.txt\u001b[39m\u001b[38;5;124m\"\u001b[39m)\n",
      "File \u001b[0;32m~/anaconda3/lib/python3.11/site-packages/numpy/lib/npyio.py:1373\u001b[0m, in \u001b[0;36mloadtxt\u001b[0;34m(fname, dtype, comments, delimiter, converters, skiprows, usecols, unpack, ndmin, encoding, max_rows, quotechar, like)\u001b[0m\n\u001b[1;32m   1370\u001b[0m \u001b[38;5;28;01mif\u001b[39;00m \u001b[38;5;28misinstance\u001b[39m(delimiter, \u001b[38;5;28mbytes\u001b[39m):\n\u001b[1;32m   1371\u001b[0m     delimiter \u001b[38;5;241m=\u001b[39m delimiter\u001b[38;5;241m.\u001b[39mdecode(\u001b[38;5;124m'\u001b[39m\u001b[38;5;124mlatin1\u001b[39m\u001b[38;5;124m'\u001b[39m)\n\u001b[0;32m-> 1373\u001b[0m arr \u001b[38;5;241m=\u001b[39m _read(fname, dtype\u001b[38;5;241m=\u001b[39mdtype, comment\u001b[38;5;241m=\u001b[39mcomment, delimiter\u001b[38;5;241m=\u001b[39mdelimiter,\n\u001b[1;32m   1374\u001b[0m             converters\u001b[38;5;241m=\u001b[39mconverters, skiplines\u001b[38;5;241m=\u001b[39mskiprows, usecols\u001b[38;5;241m=\u001b[39musecols,\n\u001b[1;32m   1375\u001b[0m             unpack\u001b[38;5;241m=\u001b[39munpack, ndmin\u001b[38;5;241m=\u001b[39mndmin, encoding\u001b[38;5;241m=\u001b[39mencoding,\n\u001b[1;32m   1376\u001b[0m             max_rows\u001b[38;5;241m=\u001b[39mmax_rows, quote\u001b[38;5;241m=\u001b[39mquotechar)\n\u001b[1;32m   1378\u001b[0m \u001b[38;5;28;01mreturn\u001b[39;00m arr\n",
      "File \u001b[0;32m~/anaconda3/lib/python3.11/site-packages/numpy/lib/npyio.py:992\u001b[0m, in \u001b[0;36m_read\u001b[0;34m(fname, delimiter, comment, quote, imaginary_unit, usecols, skiplines, max_rows, converters, ndmin, unpack, dtype, encoding)\u001b[0m\n\u001b[1;32m    990\u001b[0m     fname \u001b[38;5;241m=\u001b[39m os\u001b[38;5;241m.\u001b[39mfspath(fname)\n\u001b[1;32m    991\u001b[0m \u001b[38;5;28;01mif\u001b[39;00m \u001b[38;5;28misinstance\u001b[39m(fname, \u001b[38;5;28mstr\u001b[39m):\n\u001b[0;32m--> 992\u001b[0m     fh \u001b[38;5;241m=\u001b[39m np\u001b[38;5;241m.\u001b[39mlib\u001b[38;5;241m.\u001b[39m_datasource\u001b[38;5;241m.\u001b[39mopen(fname, \u001b[38;5;124m'\u001b[39m\u001b[38;5;124mrt\u001b[39m\u001b[38;5;124m'\u001b[39m, encoding\u001b[38;5;241m=\u001b[39mencoding)\n\u001b[1;32m    993\u001b[0m     \u001b[38;5;28;01mif\u001b[39;00m encoding \u001b[38;5;129;01mis\u001b[39;00m \u001b[38;5;28;01mNone\u001b[39;00m:\n\u001b[1;32m    994\u001b[0m         encoding \u001b[38;5;241m=\u001b[39m \u001b[38;5;28mgetattr\u001b[39m(fh, \u001b[38;5;124m'\u001b[39m\u001b[38;5;124mencoding\u001b[39m\u001b[38;5;124m'\u001b[39m, \u001b[38;5;124m'\u001b[39m\u001b[38;5;124mlatin1\u001b[39m\u001b[38;5;124m'\u001b[39m)\n",
      "File \u001b[0;32m~/anaconda3/lib/python3.11/site-packages/numpy/lib/_datasource.py:193\u001b[0m, in \u001b[0;36mopen\u001b[0;34m(path, mode, destpath, encoding, newline)\u001b[0m\n\u001b[1;32m    156\u001b[0m \u001b[38;5;250m\u001b[39m\u001b[38;5;124;03m\"\"\"\u001b[39;00m\n\u001b[1;32m    157\u001b[0m \u001b[38;5;124;03mOpen `path` with `mode` and return the file object.\u001b[39;00m\n\u001b[1;32m    158\u001b[0m \n\u001b[0;32m   (...)\u001b[0m\n\u001b[1;32m    189\u001b[0m \n\u001b[1;32m    190\u001b[0m \u001b[38;5;124;03m\"\"\"\u001b[39;00m\n\u001b[1;32m    192\u001b[0m ds \u001b[38;5;241m=\u001b[39m DataSource(destpath)\n\u001b[0;32m--> 193\u001b[0m \u001b[38;5;28;01mreturn\u001b[39;00m ds\u001b[38;5;241m.\u001b[39mopen(path, mode, encoding\u001b[38;5;241m=\u001b[39mencoding, newline\u001b[38;5;241m=\u001b[39mnewline)\n",
      "File \u001b[0;32m~/anaconda3/lib/python3.11/site-packages/numpy/lib/_datasource.py:533\u001b[0m, in \u001b[0;36mDataSource.open\u001b[0;34m(self, path, mode, encoding, newline)\u001b[0m\n\u001b[1;32m    530\u001b[0m     \u001b[38;5;28;01mreturn\u001b[39;00m _file_openers[ext](found, mode\u001b[38;5;241m=\u001b[39mmode,\n\u001b[1;32m    531\u001b[0m                               encoding\u001b[38;5;241m=\u001b[39mencoding, newline\u001b[38;5;241m=\u001b[39mnewline)\n\u001b[1;32m    532\u001b[0m \u001b[38;5;28;01melse\u001b[39;00m:\n\u001b[0;32m--> 533\u001b[0m     \u001b[38;5;28;01mraise\u001b[39;00m \u001b[38;5;167;01mFileNotFoundError\u001b[39;00m(\u001b[38;5;124mf\u001b[39m\u001b[38;5;124m\"\u001b[39m\u001b[38;5;132;01m{\u001b[39;00mpath\u001b[38;5;132;01m}\u001b[39;00m\u001b[38;5;124m not found.\u001b[39m\u001b[38;5;124m\"\u001b[39m)\n",
      "\u001b[0;31mFileNotFoundError\u001b[0m: myfile.txt not found."
     ]
    }
   ],
   "source": [
    "np.loadtxt(\"myfile.txt\")"
   ]
  },
  {
   "cell_type": "code",
   "execution_count": null,
   "id": "48a46138-6b8e-4a40-827d-9ce9c5ae7ece",
   "metadata": {},
   "outputs": [],
   "source": [
    "np.genfromtxt(\"my_file.csv\", delimiter=',' )"
   ]
  },
  {
   "cell_type": "code",
   "execution_count": null,
   "id": "fbf469c4-78bf-4b7f-9e8c-4a7410c806a7",
   "metadata": {},
   "outputs": [],
   "source": [
    "np.savetxt(\"myarray.txt\", a, delimiter=\" \" )"
   ]
  },
  {
   "cell_type": "markdown",
   "id": "b239a5df-0f7e-4c0e-874f-e2583dd912fd",
   "metadata": {},
   "source": [
    "## Asking For Help"
   ]
  },
  {
   "cell_type": "code",
   "execution_count": 22,
   "id": "58d19ff0-3e50-4567-8bf4-78ea71cee24f",
   "metadata": {},
   "outputs": [
    {
     "name": "stdout",
     "output_type": "stream",
     "text": [
      "Data-type of the array's elements.\n",
      "\n",
      ".. warning::\n",
      "\n",
      "    Setting ``arr.dtype`` is discouraged and may be deprecated in the\n",
      "    future.  Setting will replace the ``dtype`` without modifying the\n",
      "    memory (see also `ndarray.view` and `ndarray.astype`).\n",
      "\n",
      "Parameters\n",
      "----------\n",
      "None\n",
      "\n",
      "Returns\n",
      "-------\n",
      "d : numpy dtype object\n",
      "\n",
      "See Also\n",
      "--------\n",
      "ndarray.astype : Cast the values contained in the array to a new data-type.\n",
      "ndarray.view : Create a view of the same data but a different data-type.\n",
      "numpy.dtype\n",
      "\n",
      "Examples\n",
      "--------\n",
      ">>> x\n",
      "array([[0, 1],\n",
      "       [2, 3]])\n",
      ">>> x.dtype\n",
      "dtype('int32')\n",
      ">>> type(x.dtype)\n",
      "<type 'numpy.dtype'>\n"
     ]
    }
   ],
   "source": [
    "np.info(np.ndarray.dtype)"
   ]
  },
  {
   "cell_type": "markdown",
   "id": "dd39b3ad-ddc6-452d-916d-2bf054863516",
   "metadata": {},
   "source": [
    "## Inspecting Your Array"
   ]
  },
  {
   "cell_type": "code",
   "execution_count": 23,
   "id": "39d0aed9-b9e8-49a8-b863-6c2714db451e",
   "metadata": {},
   "outputs": [
    {
     "data": {
      "text/plain": [
       "(3,)"
      ]
     },
     "execution_count": 23,
     "metadata": {},
     "output_type": "execute_result"
    }
   ],
   "source": [
    "a.shape #Dimension de la matriz a"
   ]
  },
  {
   "cell_type": "code",
   "execution_count": 24,
   "id": "269f14e9-d194-4680-9a34-fed25bc4c28c",
   "metadata": {},
   "outputs": [
    {
     "data": {
      "text/plain": [
       "3"
      ]
     },
     "execution_count": 24,
     "metadata": {},
     "output_type": "execute_result"
    }
   ],
   "source": [
    "len(a) #longitud de la matreiz"
   ]
  },
  {
   "cell_type": "code",
   "execution_count": 25,
   "id": "990021e8-291e-401d-ad18-f50ad82c775f",
   "metadata": {},
   "outputs": [
    {
     "data": {
      "text/plain": [
       "2"
      ]
     },
     "execution_count": 25,
     "metadata": {},
     "output_type": "execute_result"
    }
   ],
   "source": [
    "b.ndim #Numero de dimensiones"
   ]
  },
  {
   "cell_type": "code",
   "execution_count": 26,
   "id": "54d53f09-211d-4cd8-953c-4bf60e7c6e5f",
   "metadata": {},
   "outputs": [
    {
     "data": {
      "text/plain": [
       "4"
      ]
     },
     "execution_count": 26,
     "metadata": {},
     "output_type": "execute_result"
    }
   ],
   "source": [
    " e.size # numero de elementos de la matriz"
   ]
  },
  {
   "cell_type": "code",
   "execution_count": 27,
   "id": "92acb15e-163d-4d9f-aba1-7ecd64b2047d",
   "metadata": {},
   "outputs": [
    {
     "data": {
      "text/plain": [
       "dtype('float64')"
      ]
     },
     "execution_count": 27,
     "metadata": {},
     "output_type": "execute_result"
    }
   ],
   "source": [
    " b.dtype # Tipo de dato en la matriz"
   ]
  },
  {
   "cell_type": "code",
   "execution_count": 28,
   "id": "ea66fda2-e646-4479-9214-11dd7c79671f",
   "metadata": {},
   "outputs": [
    {
     "data": {
      "text/plain": [
       "'float64'"
      ]
     },
     "execution_count": 28,
     "metadata": {},
     "output_type": "execute_result"
    }
   ],
   "source": [
    "b.dtype.name # Nombre del tipo de dato"
   ]
  },
  {
   "cell_type": "code",
   "execution_count": 30,
   "id": "eea71f0b-653f-4825-875f-ac961cae48d2",
   "metadata": {},
   "outputs": [
    {
     "data": {
      "text/plain": [
       "array([[1, 2, 3],\n",
       "       [4, 5, 6]])"
      ]
     },
     "execution_count": 30,
     "metadata": {},
     "output_type": "execute_result"
    }
   ],
   "source": [
    "b.astype(int) #Convertir Array en diferente tipo"
   ]
  },
  {
   "cell_type": "markdown",
   "id": "f0e0a386-eef5-4ffd-9afd-b61e27a17b0b",
   "metadata": {},
   "source": [
    " # Data Types"
   ]
  },
  {
   "cell_type": "code",
   "execution_count": 31,
   "id": "ad994d18-3fa4-49a7-9903-6e24a02b2e26",
   "metadata": {},
   "outputs": [
    {
     "data": {
      "text/plain": [
       "numpy.int64"
      ]
     },
     "execution_count": 31,
     "metadata": {},
     "output_type": "execute_result"
    }
   ],
   "source": [
    "np.int64 #Signed 64-bit integer types"
   ]
  },
  {
   "cell_type": "code",
   "execution_count": 32,
   "id": "3bc971de-6ece-44a1-836f-4ab162a887c1",
   "metadata": {},
   "outputs": [
    {
     "data": {
      "text/plain": [
       "numpy.float32"
      ]
     },
     "execution_count": 32,
     "metadata": {},
     "output_type": "execute_result"
    }
   ],
   "source": [
    "np.float32 #Standard double-precision floating point"
   ]
  },
  {
   "cell_type": "code",
   "execution_count": null,
   "id": "1ce2c44f-1449-4ef1-85a0-c99848630594",
   "metadata": {},
   "outputs": [],
   "source": [
    "np.complex #Complex numbers represented by 128 floats"
   ]
  },
  {
   "cell_type": "code",
   "execution_count": null,
   "id": "2785cbb3-bc7b-4961-92d2-4b487158e8b3",
   "metadata": {},
   "outputs": [],
   "source": [
    "np.bool #Boolean type storing TRUE and FALSE values"
   ]
  },
  {
   "cell_type": "code",
   "execution_count": null,
   "id": "b0cacc55-a2a5-4188-8687-ccd3a47d6c2a",
   "metadata": {},
   "outputs": [],
   "source": [
    "np.object #Python object type"
   ]
  },
  {
   "cell_type": "code",
   "execution_count": null,
   "id": "871524ae-0d8f-4db9-9ca3-5e2ce090fc9e",
   "metadata": {},
   "outputs": [],
   "source": [
    "np.string_ #Fixed-length string type"
   ]
  },
  {
   "cell_type": "code",
   "execution_count": null,
   "id": "9969664a-02e2-4eaf-9a56-5cca828b9426",
   "metadata": {},
   "outputs": [],
   "source": [
    "np.unicode_ #Fixed-length unicode type"
   ]
  },
  {
   "cell_type": "markdown",
   "id": "0ae78010-5908-4c0d-9d65-6493519b3636",
   "metadata": {},
   "source": [
    "# Array Mathematics\n",
    "### Arithmetic Operations"
   ]
  },
  {
   "cell_type": "code",
   "execution_count": null,
   "id": "7cf8e476-3c07-405b-9cc8-e4763f4d8902",
   "metadata": {},
   "outputs": [],
   "source": [
    " g = a - b #Subtraction"
   ]
  },
  {
   "cell_type": "code",
   "execution_count": 33,
   "id": "4b270299-2cf7-4e3e-9355-94df2e60011f",
   "metadata": {},
   "outputs": [
    {
     "data": {
      "text/plain": [
       "array([[-0.5,  0. ,  0. ],\n",
       "       [-3. , -3. , -3. ]])"
      ]
     },
     "execution_count": 33,
     "metadata": {},
     "output_type": "execute_result"
    }
   ],
   "source": [
    " np.subtract(a,b) #Subtractio"
   ]
  },
  {
   "cell_type": "code",
   "execution_count": 34,
   "id": "b30dff85-5a71-4511-849d-cdcdf113544b",
   "metadata": {},
   "outputs": [
    {
     "data": {
      "text/plain": [
       "array([[2.5, 4. , 6. ],\n",
       "       [5. , 7. , 9. ]])"
      ]
     },
     "execution_count": 34,
     "metadata": {},
     "output_type": "execute_result"
    }
   ],
   "source": [
    " b + a  #Addition"
   ]
  },
  {
   "cell_type": "code",
   "execution_count": 35,
   "id": "3ec7d075-482e-4e1b-9e30-580b09a0b12c",
   "metadata": {},
   "outputs": [
    {
     "data": {
      "text/plain": [
       "array([[2.5, 4. , 6. ],\n",
       "       [5. , 7. , 9. ]])"
      ]
     },
     "execution_count": 35,
     "metadata": {},
     "output_type": "execute_result"
    }
   ],
   "source": [
    " np.add(b,a) #Addition"
   ]
  },
  {
   "cell_type": "code",
   "execution_count": null,
   "id": "282d6da7-8dc9-43ee-8fb6-9dfe85db6af4",
   "metadata": {},
   "outputs": [],
   "source": [
    " a / b #Division"
   ]
  },
  {
   "cell_type": "code",
   "execution_count": null,
   "id": "45480c17-b3fc-4729-a576-d213bc15c1ca",
   "metadata": {},
   "outputs": [],
   "source": [
    "np.divide(a,b) #Division"
   ]
  },
  {
   "cell_type": "code",
   "execution_count": null,
   "id": "29d8bcef-42e7-41dd-ad91-705c8c450afb",
   "metadata": {},
   "outputs": [],
   "source": [
    " a * b #Multiplicacion"
   ]
  },
  {
   "cell_type": "code",
   "execution_count": null,
   "id": "1b797768-1f69-4877-8d8e-970043c55550",
   "metadata": {},
   "outputs": [],
   "source": [
    " np.multiply(a,b) #Multiplicacion"
   ]
  },
  {
   "cell_type": "code",
   "execution_count": null,
   "id": "a3b6399d-e997-4c9e-a434-10160f5bd30d",
   "metadata": {},
   "outputs": [],
   "source": [
    "np.exp(b) #Exponenciacion"
   ]
  },
  {
   "cell_type": "code",
   "execution_count": null,
   "id": "018745e8-ca6e-4992-b857-69bcc5a4092b",
   "metadata": {},
   "outputs": [],
   "source": [
    "np.sqrt(b) #Raiz cuadrada"
   ]
  },
  {
   "cell_type": "code",
   "execution_count": null,
   "id": "f3455e73-ef99-4505-83a0-d90dcc0856e2",
   "metadata": {},
   "outputs": [],
   "source": [
    " np.sin(a) #Imprime los senos de un array"
   ]
  },
  {
   "cell_type": "code",
   "execution_count": null,
   "id": "2aa24a2d-2ed7-4cf9-8a00-80afd47d04bd",
   "metadata": {},
   "outputs": [],
   "source": [
    " np.cos(b) #Imprime los cosenos de un array"
   ]
  },
  {
   "cell_type": "code",
   "execution_count": 37,
   "id": "9f1fe9e9-7e0b-48ab-8109-1ee42588c7c7",
   "metadata": {},
   "outputs": [
    {
     "data": {
      "text/plain": [
       "array([0.        , 0.69314718, 1.09861229])"
      ]
     },
     "execution_count": 37,
     "metadata": {},
     "output_type": "execute_result"
    }
   ],
   "source": [
    "np.log(a) #Imprime los logaritmos naturales de la matriz"
   ]
  },
  {
   "cell_type": "code",
   "execution_count": 38,
   "id": "2257a27d-a3d2-43a7-be32-511f9c6df2cd",
   "metadata": {},
   "outputs": [
    {
     "data": {
      "text/plain": [
       "array([[7., 7.],\n",
       "       [7., 7.]])"
      ]
     },
     "execution_count": 38,
     "metadata": {},
     "output_type": "execute_result"
    }
   ],
   "source": [
    "e.dot(f)"
   ]
  },
  {
   "cell_type": "markdown",
   "id": "9c7ef132-bbb9-4c1c-891a-60203681230c",
   "metadata": {},
   "source": [
    "# Comparison"
   ]
  },
  {
   "cell_type": "code",
   "execution_count": 39,
   "id": "039cc6d3-8c88-477c-a181-0d3f1da45bd2",
   "metadata": {},
   "outputs": [
    {
     "data": {
      "text/plain": [
       "array([[False,  True,  True],\n",
       "       [False, False, False]])"
      ]
     },
     "execution_count": 39,
     "metadata": {},
     "output_type": "execute_result"
    }
   ],
   "source": [
    " a == b #Comparacion de dos elementos"
   ]
  },
  {
   "cell_type": "code",
   "execution_count": 40,
   "id": "b5fed94c-0111-4961-9bb6-f6de5491705e",
   "metadata": {},
   "outputs": [
    {
     "data": {
      "text/plain": [
       "array([ True, False, False])"
      ]
     },
     "execution_count": 40,
     "metadata": {},
     "output_type": "execute_result"
    }
   ],
   "source": [
    "a < 2 #A menor que 2"
   ]
  },
  {
   "cell_type": "code",
   "execution_count": 42,
   "id": "7734ef02-6ec1-4c6c-8567-9b3f73c374f5",
   "metadata": {},
   "outputs": [
    {
     "data": {
      "text/plain": [
       "False"
      ]
     },
     "execution_count": 42,
     "metadata": {},
     "output_type": "execute_result"
    }
   ],
   "source": [
    " np.array_equal(a, b) #Compara si el array es igual al otro array"
   ]
  },
  {
   "cell_type": "markdown",
   "id": "50ceafbb-9aa1-44ff-bc87-2aa6c982822f",
   "metadata": {},
   "source": [
    "# Aggregate Functions"
   ]
  },
  {
   "cell_type": "code",
   "execution_count": 47,
   "id": "f06ba19c-f366-45dc-a9bd-619b2c25ef07",
   "metadata": {},
   "outputs": [
    {
     "data": {
      "text/plain": [
       "6"
      ]
     },
     "execution_count": 47,
     "metadata": {},
     "output_type": "execute_result"
    }
   ],
   "source": [
    "a.sum() #suma todo el array"
   ]
  },
  {
   "cell_type": "code",
   "execution_count": 48,
   "id": "b7a66666-94b9-4ec7-9a12-30b54834a641",
   "metadata": {},
   "outputs": [
    {
     "data": {
      "text/plain": [
       "1"
      ]
     },
     "execution_count": 48,
     "metadata": {},
     "output_type": "execute_result"
    }
   ],
   "source": [
    "a.min() #Busca el valor minimo"
   ]
  },
  {
   "cell_type": "code",
   "execution_count": 49,
   "id": "6a2e2e7e-5bdf-4044-b678-256c7d648967",
   "metadata": {},
   "outputs": [
    {
     "data": {
      "text/plain": [
       "array([4., 5., 6.])"
      ]
     },
     "execution_count": 49,
     "metadata": {},
     "output_type": "execute_result"
    }
   ],
   "source": [
    "b.max(axis=0) #Maximo valor del renglon 0"
   ]
  },
  {
   "cell_type": "code",
   "execution_count": 50,
   "id": "1a4aff0d-c769-48a3-8f8a-01b16ed344bc",
   "metadata": {},
   "outputs": [
    {
     "data": {
      "text/plain": [
       "array([[ 1.5,  3.5,  6.5],\n",
       "       [ 4. ,  9. , 15. ]])"
      ]
     },
     "execution_count": 50,
     "metadata": {},
     "output_type": "execute_result"
    }
   ],
   "source": [
    " b.cumsum(axis=1) #Suma de elementos acumulacion"
   ]
  },
  {
   "cell_type": "code",
   "execution_count": 52,
   "id": "ca93f65a-6155-4a6d-b6e8-84786a4e2ee1",
   "metadata": {},
   "outputs": [
    {
     "data": {
      "text/plain": [
       "2.0"
      ]
     },
     "execution_count": 52,
     "metadata": {},
     "output_type": "execute_result"
    }
   ],
   "source": [
    " a.mean() #Que es mean?"
   ]
  },
  {
   "cell_type": "code",
   "execution_count": 54,
   "id": "0a95398c-18e6-49b0-98d9-be154ab364ec",
   "metadata": {},
   "outputs": [
    {
     "data": {
      "text/plain": [
       "3.5"
      ]
     },
     "execution_count": 54,
     "metadata": {},
     "output_type": "execute_result"
    }
   ],
   "source": [
    "np.median(b) #La mediana de B"
   ]
  },
  {
   "cell_type": "code",
   "execution_count": 55,
   "id": "352e4425-e937-447a-9760-41137ac175de",
   "metadata": {},
   "outputs": [
    {
     "data": {
      "text/plain": [
       "1.0"
      ]
     },
     "execution_count": 55,
     "metadata": {},
     "output_type": "execute_result"
    }
   ],
   "source": [
    "np.corrcoef(a) #Correlacion de coeficientes"
   ]
  },
  {
   "cell_type": "code",
   "execution_count": 56,
   "id": "8a7f61f9-bc4c-4c99-aadf-a753b3ab0b3a",
   "metadata": {},
   "outputs": [
    {
     "data": {
      "text/plain": [
       "1.5920810978785667"
      ]
     },
     "execution_count": 56,
     "metadata": {},
     "output_type": "execute_result"
    }
   ],
   "source": [
    "np.std(b) #Desviacion Standar"
   ]
  },
  {
   "cell_type": "markdown",
   "id": "28950003-b72d-4325-ad14-45a9abc638ee",
   "metadata": {},
   "source": [
    "#  Copying Arrays"
   ]
  },
  {
   "cell_type": "code",
   "execution_count": 57,
   "id": "a8c1dcb5-c634-4bd3-85c3-2b57e794b7c1",
   "metadata": {},
   "outputs": [],
   "source": [
    "h = a.view() #Crea la vista de un arrar con la misma informacion"
   ]
  },
  {
   "cell_type": "code",
   "execution_count": 58,
   "id": "f37e5700-f74a-4b1a-a3d7-0dc3c4d61ab9",
   "metadata": {},
   "outputs": [
    {
     "data": {
      "text/plain": [
       "array([1, 2, 3])"
      ]
     },
     "execution_count": 58,
     "metadata": {},
     "output_type": "execute_result"
    }
   ],
   "source": [
    "np.copy(a) #Crea una copia del array"
   ]
  },
  {
   "cell_type": "code",
   "execution_count": 59,
   "id": "01932bfe-d58a-40a2-a156-974b4961e321",
   "metadata": {},
   "outputs": [],
   "source": [
    "h=a.copy() #Crea una copia profunda"
   ]
  },
  {
   "cell_type": "code",
   "execution_count": 60,
   "id": "622f294f-7a11-4d0b-90af-b0549680ec01",
   "metadata": {},
   "outputs": [
    {
     "name": "stdout",
     "output_type": "stream",
     "text": [
      "[1 2 3]\n"
     ]
    }
   ],
   "source": [
    "print(h)"
   ]
  }
 ],
 "metadata": {
  "kernelspec": {
   "display_name": "Python 3 (ipykernel)",
   "language": "python",
   "name": "python3"
  },
  "language_info": {
   "codemirror_mode": {
    "name": "ipython",
    "version": 3
   },
   "file_extension": ".py",
   "mimetype": "text/x-python",
   "name": "python",
   "nbconvert_exporter": "python",
   "pygments_lexer": "ipython3",
   "version": "3.11.8"
  }
 },
 "nbformat": 4,
 "nbformat_minor": 5
}
