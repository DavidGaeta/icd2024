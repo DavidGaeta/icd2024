


import numpy as np





a = np.array([1,2,3])


b = np.array([(1.5,2,3),(4,5,6)], dtype = float)


c = np.array([[(1.5,2,3), (4,5,6)],[(3,2,1),(4,5,6)]], dtype = float)





np.zeros((3,4))


np.ones((2,3,4), dtype = np.int16)


d = np.arange(10,25,5) #crea un array de valorers espaciados


e = np.full((2,2),7) #Crea un array constante


f = np.eye(2) #Crea una matriz identidad de 2x2


np.random.random((2,2)) #Crea un array con valores random


 np.empty((3,2))#crea una matriz vacia





np.save('my_array', a)


 np.savez('array.npz', a, b)


 np.load('my_array.npy')





np.loadtxt("myfile.txt")


np.genfromtxt("my_file.csv", delimiter=',' )


np.savetxt("myarray.txt", a, delimiter=" " )





np.info(np.ndarray.dtype)





a.shape #Dimension de la matriz a


len(a) #longitud de la matreiz


b.ndim #Numero de dimensiones


 e.size # numero de elementos de la matriz


 b.dtype # Tipo de dato en la matriz


b.dtype.name # Nombre del tipo de dato


b.astype(int) #Convertir Array en diferente tipo





np.int64 #Signed 64-bit integer types


np.float32 #Standard double-precision floating point


np.complex #Complex numbers represented by 128 floats


np.bool #Boolean type storing TRUE and FALSE values


np.object #Python object type


np.string_ #Fixed-length string type


np.unicode_ #Fixed-length unicode type





 g = a - b #Subtraction


 np.subtract(a,b) #Subtractio


 b + a  #Addition


 np.add(b,a) #Addition


 a / b #Division


np.divide(a,b) #Division


 a * b #Multiplicacion


 np.multiply(a,b) #Multiplicacion


np.exp(b) #Exponenciacion


np.sqrt(b) #Raiz cuadrada


 np.sin(a) #Imprime los senos de un array


 np.cos(b) #Imprime los cosenos de un array


np.log(a) #Imprime los logaritmos naturales de la matriz


e.dot(f)





 a == b #Comparacion de dos elementos


a < 2 #A menor que 2


 np.array_equal(a, b) #Compara si el array es igual al otro array





a.sum() #suma todo el array


a.min() #Busca el valor minimo


b.max(axis=0) #Maximo valor del renglon 0


 b.cumsum(axis=1) #Suma de elementos acumulacion


 a.mean() #Que es mean?


np.median(b) #La mediana de B


np.corrcoef(a) #Correlacion de coeficientes


np.std(b) #Desviacion Standar





h = a.view() #Crea la vista de un arrar con la misma informacion


np.copy(a) #Crea una copia del array


h=a.copy() #Crea una copia profunda


print(h)
