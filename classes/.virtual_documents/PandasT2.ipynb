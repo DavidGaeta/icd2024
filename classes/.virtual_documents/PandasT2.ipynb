


!pip install pandas


import pandas as pd


df = pd.DataFrame(
{"a" : [4, 5, 6],
"b" : [7, 8, 9],
"c" : [10, 11, 12]},
index = [1, 2, 3])
#Specify values for each column.


df = pd.DataFrame(
[[4, 7, 10],
[5, 8, 11],
[6, 9, 12]],
index=[1, 2, 3],
columns=['a', 'b', 'c'])
#Specify values for each row.


df = pd.DataFrame(
{"a" : [4 ,5, 6],
"b" : [7, 8, 9],
"c" : [10, 11, 12]},
index = pd.MultiIndex.from_tuples(
[('d', 1), ('d', 2),
('e', 2)], names=['n', 'v']))
#Create DataFrame with a MultiIndex





df = (pd.melt(df)
.rename(columns={
'variable':'var',
'value':'val'})
.query('val >= 200')
)








pd.melt(df) #Convierte columnas en filas


pd.concat([df1,df2]) #Añades filas al dataframe


 df.pivot(columns='var', values='val')#Distribuye filas en columnas





df.sort_values('mpg') #Ordena filas de menor a mayor
df.sort_values('mpg’, ascending=False) #Ordena filas de mayor a menor
df.rename(columns = {'y':'year'}) #Renombra las columnas de un dataframe
df.sort_index() #Ordena el index de un dataframe
df.reset_index() #Regresa los indices del dataframe a numeros, moviendo los indices a columnas.
df.drop(columns=['Length’, 'Height']) #drop columnas del dataframe





df[df.length>7] #Extrae datos qu ecumplan criterios logicos


df.drop_duplicates() #Remueve filas duplicadas (solo considera columnas)


df.sample(frac=0.5) #Seleccionar una fraccion aleatoria de las rows


df.sample(n=10) #Selecciona n rows aleatoriamente


df.nlargest(n,'value') #Selecciona los mas n numeros mas grandes


df.nsmallest(n, 'value')#Selecciona los n mas pequeños 


df.head(n)


df.tail(n)





df[['width’, 'length’, 'species']] #Selecciona multiples


df['width'] or df.width #Selecciona una sola columna con un nombre espesifico


df.filter(rejex = 'regex') #seleccionar columnas que ampaten con la expresion regular regex








Use df.loc[] and df.iloc[] para seleccionar filas, solo columnas o ambas!
Use df.at[] and df.iat[] para acceder a un unico valor por fila y columna.








df.query('Length > 7')


df.query('Length > 7 and Width < 8')


df.query('Name.str.startswith("abc")', engine="pyhon")





df['w'].value_counts()
#Count number of rows with each unique value of variable
len(df)
#Quantity of rows in DataFrame.
df.shape
#Tuple of # of rows, # of columns in DataFrame.
df['w'].nunique()
# of distinct values in a column.
df.describe()
#Basic descriptive and statistics for each column (or GroupBy).





sum() #Sum values of each object.
min() #Minimum value in each object.
count() #Count non-NA/null values of each object.
max() #Maximum value in each object.
mean() #Mean value of each object.
median() #Median value of each object.
var() #Variance of each object.
quantile([0.25,0.75]) #Quantiles of each object.
std() # Standard deviation of each object.
apply(function) #Apply function to each object.





df.dropna()
#Drop rows with any column having NA/null data.
df.fillna(value)
#Replace all NA/null data with value.





df.assign(Area=lambda df: df.Length*df.Height)
#Compute and append one or more new columns.
df['Volume'] = df.Length*df.Height*df.Depth
#Add single column.
pd.qcut(df.col, n, labels=False)
#Bin column into n buckets.





max(axis=1) #Element-wise max.
min(axis=1) #Element-wise min.
clip(lower=-10,upper=10) #Recortar valores en los umbrales de entrada.
abs() #Absolute value.











df.groupby(by="col")


df.groupby(level="ind")





size() #tamaño de cada grupo.
agg(function) #Agrega grupo usando función.





shift(1) #Copiar con valores desplazados en 1.
rank(method='dense') #Rangos sin espacios.
rank(method='min') #Rangos. Los empates obtienen el rango mínimo.
rank(pct=True) #Rangos reescalados al intervalo [0, 1].
rank(method='first') #Rangos. Los empates van al primer valor.
shift(-1) #Copiar con valores rezagados por 1.
cumsum() #Suma acumulativa.
cummax() #Maximo acumulativo.
cummin() #Cumulative min.
cumprod() #Cumulative product.





df.expanding() #Return an Expanding object allowing summary functions to 
#be applied cumulatively.Devuelve un objeto desplegable que permite aplicar funciones de resumen de forma acumulativa

df.rolling(n) #Return a Rolling object allowing summary functions to be applied to windows of length n.
#Devuelve un objeto rodante que permite aplicar funciones de resumen a ventanas de longitud n





df.plot.hist() #Crea un histograma por cada columna


df.plot.scatter(x='w',y='h') #Gráfico de dispersión utilizando pares de puntos
