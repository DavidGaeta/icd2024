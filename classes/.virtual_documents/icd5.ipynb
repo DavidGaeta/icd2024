








import pandas as pd
import numpy as np
import matplotlib.pyplot as plt





df = pd.read_csv('train.csv')
print(df.head())











print(df.duplicated())





print(df.info())





print(df.describe())





# Categorical columns
cat_col = [col for col in df.columns if df[col].dtype == 'object']
print('Categorical columns :',cat_col)
# Numerical columns
num_col = [col for col in df.columns if df[col].dtype != 'object']
print('Numerical columns :',num_col)





df[cat_col].nunique()








df['ticket'].unique()[:50]








df1 = df.drop(columns=['name','ticket'])
print(df1.shape)








round((df1.isnull().sum()/df1.shape[0])*100,2)





print("Before: ", df1.shape)
df2 = df1.drop(columns='cabin')
df2.dropna(subset=['embarked'], axis=0, inplace=True)
print("After: ", df2.shape)





# Mean imputation
df3 = df2.fillna(df2.age.mean())
# Let's check the null values again
df3.isnull().sum()

plt.hist([df2.age,df3.age], alpha=0.75, label=['before','after'])
plt.legend(loc='upper right')
plt.show()








import matplotlib.pyplot as plt
plt.boxplot(df3['age'], vert=False)
plt.ylabel('Variable')
plt.xlabel('Age')
plt.title('Before')
plt.show()





# calculate summary statistics
mean = df3['age'].mean()
std  = df3['age'].std()
 
# Calculate the lower and upper bounds
lower_bound = mean - std*2
upper_bound = mean + std*2
 
print('Lower Bound :',lower_bound)
print('Upper Bound :',upper_bound)
 
# Drop the outliers
df4 = df3[(df3['age'] >= lower_bound)
                & (df3['age'] <= upper_bound)]


plt.boxplot(df4['age'], vert=False)
plt.ylabel('Variable')
plt.xlabel('Age')
plt.title('After')
plt.show()











X = df3[['pclass','sex','age', 'sibsp','parch','fare','embarked']]
Y = df3['survived']


X.head()





from sklearn.preprocessing import MinMaxScaler
 
# initialising the MinMaxScaler
scaler = MinMaxScaler(feature_range=(0, 1))
 
# Numerical columns
num_col_ = [col for col in X.columns if X[col].dtype != 'object']
x1 = X
# learning the statistical parameters for each of the data and transforming
x1[num_col_] = scaler.fit_transform(x1[num_col_])
x1.head()



