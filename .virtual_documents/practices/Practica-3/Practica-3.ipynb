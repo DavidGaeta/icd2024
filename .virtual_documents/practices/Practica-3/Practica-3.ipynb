








import pandas as pd
import numpy as np
import matplotlib.pyplot as plt
import matplotlib.axes as ax
from scipy.stats import linregress





df = pd.read_csv(r'train_housing_data_italy.csv')





df.head() # Se muestran los primeros 5 renglones del dataset





#Muestra los datos nulos y hace la suma de ellos por columna.

display(df.isnull().sum())


# Hacer conteo de filas, columnas y la cantidad de missing values en el atributo objetivo.

filas, columnas = df.shape
pcentNaN = 100*37478/filas
print("Filas:", filas, "\nColumnas:", columnas, f"\nPorcentaje de datos perdidos en price: {pcentNaN:.2f}%")





# Muestra la suma de datos duplicados en el dataframe

display(df.duplicated().sum())  





# Muestra la ingormación general del los datos del dataframe

display(df.info())


# Muestra la diversidad de datos que existen en el dataframe

display(df.nunique())





# Agrupar por localización y calcular el precio promedio
precio_por_zona = df.groupby('location')['price'].mean().reset_index()

# Ordenar para ver las zonas más caras
precio_por_zona = precio_por_zona.sort_values(by='price', ascending=False)

# Mostrar el resultado
precio_por_zona


df.hist(bins=20, figsize=(16, 12), color='#57a989', 
        edgecolor='black', alpha=0.7, layout=(5, 4))

plt.tight_layout()  # Ajusta el espaciado para evitar superposiciones
plt.show()


display(df.describe())


# 2. Seleccionar las dos variables de interés
x = df['price'] 
y = df['has_pool'] 

# 3. Crear la gráfica de dispersión
plt.figure(figsize=(8, 6))  # Ajustar tamaño de la figura
plt.scatter(x, y, color='blue', label='Datos')  # Puntos de la dispersión
plt.xlabel('price')  # Etiqueta del eje X
plt.ylabel('mq')  # Etiqueta del eje Y

# 4. Calcular la línea de regresión lineal
slope, intercept, r_value, p_value, std_err = linregress(x, y)

# 5. Generar puntos para la línea de regresión
line_x = np.array([x.min(), x.max()])
line_y = slope * line_x + intercept

# 6. Graficar la línea de regresión
plt.plot(line_x, line_y, color='red', label='Regresión Lineal')

# 7. Mostrar la ecuación de la línea de regresión
equation = f"y = {slope:.2f}x + {intercept:.2f}"
plt.text(x.min(), y.max(), equation, fontsize=12, color='red')

# 8. Mostrar el coeficiente de correlación (R-cuadrado)
plt.text(x.max(), y.min(), f"R² = {r_value**2:.2f}", fontsize=12, color='red')

# 9. Agregar leyenda y mostrar la gráfica
plt.legend()
plt.show()



























